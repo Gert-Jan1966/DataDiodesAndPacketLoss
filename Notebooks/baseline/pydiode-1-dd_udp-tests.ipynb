{
 "cells": [
  {
   "cell_type": "markdown",
   "id": "1564e92d",
   "metadata": {},
   "source": [
    "## pydiode (redundancy=1) - dd_udp.c"
   ]
  },
  {
   "cell_type": "code",
   "execution_count": 9,
   "id": "93b33b6d",
   "metadata": {},
   "outputs": [
    {
     "name": "stdout",
     "output_type": "stream",
     "text": [
      "<class 'pandas.core.frame.DataFrame'>\n",
      "Index: 5000 entries, 0 to 999\n",
      "Data columns (total 20 columns):\n",
      " #   Column             Non-Null Count  Dtype  \n",
      "---  ------             --------------  -----  \n",
      " 0   bitrate            5000 non-null   int64  \n",
      " 1   trial              5000 non-null   int64  \n",
      " 2   sender_rc          5000 non-null   int64  \n",
      " 3   receiver_rc        5000 non-null   int64  \n",
      " 4   Xfer_time          5000 non-null   float64\n",
      " 5   Xfer_success       5000 non-null   bool   \n",
      " 6   in_file_size       5000 non-null   int64  \n",
      " 7   out_file_size      5000 non-null   int64  \n",
      " 8   dtgrms_sent        5000 non-null   int64  \n",
      " 9   dtgrms_received    5000 non-null   int64  \n",
      " 10  dtgrms_corrupt     5000 non-null   object \n",
      " 11  tx_errors          5000 non-null   int64  \n",
      " 12  tx_dropped         5000 non-null   int64  \n",
      " 13  rx_errors          5000 non-null   int64  \n",
      " 14  rx_dropped         5000 non-null   int64  \n",
      " 15  snmp_OutDatagrams  5000 non-null   int64  \n",
      " 16  snmp_SndbufErrors  5000 non-null   int64  \n",
      " 17  snmp_InDatagrams   5000 non-null   int64  \n",
      " 18  snmp_InErrors      5000 non-null   int64  \n",
      " 19  snmp_RcvbufErrors  5000 non-null   int64  \n",
      "dtypes: bool(1), float64(1), int64(17), object(1)\n",
      "memory usage: 786.1+ KB\n"
     ]
    }
   ],
   "source": [
    "import pandas as pd\n",
    "\n",
    "tests1 = pd.read_csv('https://raw.githubusercontent.com/Gert-Jan1966/DataDiodesAndPacketLoss/main/Testresults/Baseline/dd_udp.c/pydiode/testresults_pydiode_1_100000000.csv')\n",
    "tests2 = pd.read_csv('https://raw.githubusercontent.com/Gert-Jan1966/DataDiodesAndPacketLoss/main/Testresults/Baseline/dd_udp.c/pydiode/testresults_pydiode_1_250000000.csv')\n",
    "tests3 = pd.read_csv('https://raw.githubusercontent.com/Gert-Jan1966/DataDiodesAndPacketLoss/main/Testresults/Baseline/dd_udp.c/pydiode/testresults_pydiode_1_500000000.csv')\n",
    "tests4 = pd.read_csv('https://raw.githubusercontent.com/Gert-Jan1966/DataDiodesAndPacketLoss/main/Testresults/Baseline/dd_udp.c/pydiode/testresults_pydiode_1_750000000.csv')\n",
    "tests5 = pd.read_csv('https://raw.githubusercontent.com/Gert-Jan1966/DataDiodesAndPacketLoss/main/Testresults/Baseline/dd_udp.c/pydiode/testresults_pydiode_1_1000000000.csv')\n",
    "results = pd.concat([tests1, tests2, tests3, tests4, tests5])\n",
    "results.info()"
   ]
  },
  {
   "cell_type": "markdown",
   "id": "01357abb",
   "metadata": {},
   "source": [
    "#### Transfer success vs Transfer failure"
   ]
  },
  {
   "cell_type": "code",
   "execution_count": 10,
   "id": "383e6319",
   "metadata": {},
   "outputs": [
    {
     "data": {
      "text/plain": [
       "Xfer_success\n",
       "True     4518\n",
       "False     482\n",
       "Name: count, dtype: int64"
      ]
     },
     "execution_count": 10,
     "metadata": {},
     "output_type": "execute_result"
    }
   ],
   "source": [
    "results['Xfer_success'].value_counts()"
   ]
  },
  {
   "cell_type": "markdown",
   "id": "b2bb4f24",
   "metadata": {},
   "source": [
    "#### Did we lose Frames at the Link layer?\n",
    "In that case, at least one of 'tx_errors', 'tx_dropped', 'rx_errors' or 'rx_dropped' should not be zero....."
   ]
  },
  {
   "cell_type": "code",
   "execution_count": 11,
   "id": "f5cd3c1d",
   "metadata": {},
   "outputs": [
    {
     "data": {
      "text/plain": [
       "Series([], Name: count, dtype: int64)"
      ]
     },
     "execution_count": 11,
     "metadata": {},
     "output_type": "execute_result"
    }
   ],
   "source": [
    "results.query('(tx_errors != 0) | (tx_dropped != 0) | (rx_errors != 0) | (rx_dropped != 0)').value_counts()"
   ]
  },
  {
   "cell_type": "markdown",
   "id": "ccbedb08",
   "metadata": {},
   "source": [
    "#### Did we lose UDP Datagrams at the Transport layer? (needs dd_udp.c module)"
   ]
  },
  {
   "cell_type": "code",
   "execution_count": 12,
   "id": "5e337a69",
   "metadata": {},
   "outputs": [
    {
     "data": {
      "text/plain": [
       "Series([], Name: count, dtype: int64)"
      ]
     },
     "execution_count": 12,
     "metadata": {},
     "output_type": "execute_result"
    }
   ],
   "source": [
    "results.query('dtgrms_sent != dtgrms_received').value_counts()"
   ]
  },
  {
   "cell_type": "markdown",
   "id": "cc96a5c4",
   "metadata": {},
   "source": [
    "#### How many trials with receiver socket buffer errors? (lost Segments)"
   ]
  },
  {
   "cell_type": "code",
   "execution_count": 13,
   "id": "64567057",
   "metadata": {},
   "outputs": [
    {
     "data": {
      "text/plain": [
       "bitrate     trial  sender_rc  receiver_rc  Xfer_time  Xfer_success  in_file_size  out_file_size  dtgrms_sent  dtgrms_received  dtgrms_corrupt  tx_errors  tx_dropped  rx_errors  rx_dropped  snmp_OutDatagrams  snmp_SndbufErrors  snmp_InDatagrams  snmp_InErrors  snmp_RcvbufErrors\n",
       "1000000000  993    0          0            1.254561   False         125000000     123157800      13575        13575            na              0          0           0          0           13575              1459               13568             4              4                    1\n",
       "750000000   8      0          0            1.481304   False         125000000     123157800      13575        13575            na              0          0           0          0           13575              0                  13571             1              1                    1\n",
       "1000000000  885    0          0            1.214044   False         125000000     123157800      13575        13575            na              0          0           0          0           13575              1588               13568             4              4                    1\n",
       "            888    0          0            1.125011   False         125000000     123157800      13575        13575            na              0          0           0          0           13575              1359               13571             1              1                    1\n",
       "            889    0          0            1.348784   False         125000000     123157800      13575        13575            na              0          0           0          0           13575              1476               13569             3              3                    1\n",
       "                                                                                                                                                                                                                                                                                        ..\n",
       "750000000   38     0          0            1.527818   False         125000000     123157800      13575        13575            na              0          0           0          0           13575              0                  13569             3              3                    1\n",
       "            45     0          0            1.521709   False         125000000     123157800      13575        13575            na              0          0           0          0           13575              0                  13569             3              3                    1\n",
       "            50     0          0            1.521012   False         125000000     123157800      13575        13575            na              0          0           0          0           13575              0                  13569             3              3                    1\n",
       "            56     0          0            1.468916   False         125000000     123157800      13575        13575            na              0          0           0          0           13575              0                  13570             2              2                    1\n",
       "            59     0          0            1.519878   False         125000000     123157800      13575        13575            na              0          0           0          0           13575              0                  13567             5              5                    1\n",
       "Name: count, Length: 482, dtype: int64"
      ]
     },
     "execution_count": 13,
     "metadata": {},
     "output_type": "execute_result"
    }
   ],
   "source": [
    "results.query('snmp_RcvbufErrors != 0').value_counts()"
   ]
  },
  {
   "cell_type": "markdown",
   "id": "c2db0954",
   "metadata": {},
   "source": [
    "#### Does the number of receiver socket InErrors equal the number of receiver buffer errors?"
   ]
  },
  {
   "cell_type": "code",
   "execution_count": 14,
   "id": "2875bdb3",
   "metadata": {},
   "outputs": [
    {
     "data": {
      "text/plain": [
       "Series([], Name: count, dtype: int64)"
      ]
     },
     "execution_count": 14,
     "metadata": {},
     "output_type": "execute_result"
    }
   ],
   "source": [
    "results.query('snmp_InErrors != snmp_RcvbufErrors').value_counts()"
   ]
  },
  {
   "cell_type": "markdown",
   "id": "a1f9711e",
   "metadata": {},
   "source": [
    "#### Do all unsuccessful trials match all trials with receiver buffer errors?"
   ]
  },
  {
   "cell_type": "code",
   "execution_count": 15,
   "id": "080b56fe",
   "metadata": {},
   "outputs": [
    {
     "data": {
      "text/plain": [
       "bitrate     trial  sender_rc  receiver_rc  Xfer_time  Xfer_success  in_file_size  out_file_size  dtgrms_sent  dtgrms_received  dtgrms_corrupt  tx_errors  tx_dropped  rx_errors  rx_dropped  snmp_OutDatagrams  snmp_SndbufErrors  snmp_InDatagrams  snmp_InErrors  snmp_RcvbufErrors\n",
       "1000000000  993    0          0            1.254561   False         125000000     123157800      13575        13575            na              0          0           0          0           13575              1459               13568             4              4                    1\n",
       "750000000   8      0          0            1.481304   False         125000000     123157800      13575        13575            na              0          0           0          0           13575              0                  13571             1              1                    1\n",
       "1000000000  885    0          0            1.214044   False         125000000     123157800      13575        13575            na              0          0           0          0           13575              1588               13568             4              4                    1\n",
       "            888    0          0            1.125011   False         125000000     123157800      13575        13575            na              0          0           0          0           13575              1359               13571             1              1                    1\n",
       "            889    0          0            1.348784   False         125000000     123157800      13575        13575            na              0          0           0          0           13575              1476               13569             3              3                    1\n",
       "                                                                                                                                                                                                                                                                                        ..\n",
       "750000000   38     0          0            1.527818   False         125000000     123157800      13575        13575            na              0          0           0          0           13575              0                  13569             3              3                    1\n",
       "            45     0          0            1.521709   False         125000000     123157800      13575        13575            na              0          0           0          0           13575              0                  13569             3              3                    1\n",
       "            50     0          0            1.521012   False         125000000     123157800      13575        13575            na              0          0           0          0           13575              0                  13569             3              3                    1\n",
       "            56     0          0            1.468916   False         125000000     123157800      13575        13575            na              0          0           0          0           13575              0                  13570             2              2                    1\n",
       "            59     0          0            1.519878   False         125000000     123157800      13575        13575            na              0          0           0          0           13575              0                  13567             5              5                    1\n",
       "Name: count, Length: 482, dtype: int64"
      ]
     },
     "execution_count": 15,
     "metadata": {},
     "output_type": "execute_result"
    }
   ],
   "source": [
    "results.query('(snmp_RcvbufErrors != 0) & (Xfer_success == False)').value_counts()"
   ]
  },
  {
   "cell_type": "markdown",
   "id": "b9cbbef9",
   "metadata": {},
   "source": [
    "#### And what about snmp_SndbufErrors?"
   ]
  },
  {
   "cell_type": "code",
   "execution_count": 16,
   "id": "4e829b54",
   "metadata": {},
   "outputs": [
    {
     "data": {
      "text/plain": [
       "bitrate     trial  sender_rc  receiver_rc  Xfer_time  Xfer_success  in_file_size  out_file_size  dtgrms_sent  dtgrms_received  dtgrms_corrupt  tx_errors  tx_dropped  rx_errors  rx_dropped  snmp_OutDatagrams  snmp_SndbufErrors  snmp_InDatagrams  snmp_InErrors  snmp_RcvbufErrors\n",
       "1000000000  999    0          0            1.345263   True          125000000     125000000      13575        13575            na              0          0           0          0           13575              1472               13572             0              0                    1\n",
       "500000000   450    0          0            2.169148   True          125000000     125000000      13575        13575            na              0          0           0          0           13575              5                  13572             0              0                    1\n",
       "750000000   1      0          0            1.520719   True          125000000     125000000      13575        13575            na              0          0           0          0           13575              1                  13572             0              0                    1\n",
       "            225    0          0            1.520333   True          125000000     125000000      13575        13575            na              0          0           0          0           13575              1                  13572             0              0                    1\n",
       "1000000000  0      0          0            1.373292   True          125000000     125000000      13575        13575            na              0          0           0          0           13575              1609               13572             0              0                    1\n",
       "                                                                                                                                                                                                                                                                                        ..\n",
       "            11     0          0            1.354960   True          125000000     125000000      13575        13575            na              0          0           0          0           13575              1582               13572             0              0                    1\n",
       "            12     0          0            1.364905   False         125000000     123157800      13575        13575            na              0          0           0          0           13575              1577               13569             3              3                    1\n",
       "            13     0          0            1.380998   True          125000000     125000000      13575        13575            na              0          0           0          0           13575              1604               13572             0              0                    1\n",
       "            14     0          0            1.364793   True          125000000     125000000      13575        13575            na              0          0           0          0           13575              1529               13572             0              0                    1\n",
       "            15     0          0            1.332753   False         125000000     123157800      13575        13575            na              0          0           0          0           13575              1523               13570             2              2                    1\n",
       "Name: count, Length: 1003, dtype: int64"
      ]
     },
     "execution_count": 16,
     "metadata": {},
     "output_type": "execute_result"
    }
   ],
   "source": [
    "results.query('(snmp_SndbufErrors != 0)').value_counts()\n",
    "#results.query('(snmp_SndbufErrors != 0) & (Xfer_success == True)').value_counts()"
   ]
  }
 ],
 "metadata": {
  "kernelspec": {
   "display_name": "Python 3 (ipykernel)",
   "language": "python",
   "name": "python3"
  }
 },
 "nbformat": 4,
 "nbformat_minor": 5
}
