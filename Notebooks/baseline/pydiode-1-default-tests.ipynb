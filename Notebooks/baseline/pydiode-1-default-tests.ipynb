{
 "cells": [
  {
   "cell_type": "markdown",
   "id": "1564e92d",
   "metadata": {},
   "source": [
    "## pydiode (redundancy=1) - UDP.c"
   ]
  },
  {
   "cell_type": "code",
   "execution_count": 1,
   "id": "93b33b6d",
   "metadata": {},
   "outputs": [
    {
     "name": "stdout",
     "output_type": "stream",
     "text": [
      "<class 'pandas.core.frame.DataFrame'>\n",
      "Index: 5000 entries, 0 to 999\n",
      "Data columns (total 20 columns):\n",
      " #   Column             Non-Null Count  Dtype  \n",
      "---  ------             --------------  -----  \n",
      " 0   bitrate            5000 non-null   int64  \n",
      " 1   trial              5000 non-null   int64  \n",
      " 2   sender_rc          5000 non-null   int64  \n",
      " 3   receiver_rc        5000 non-null   int64  \n",
      " 4   Xfer_time          5000 non-null   float64\n",
      " 5   Xfer_success       5000 non-null   bool   \n",
      " 6   in_file_size       5000 non-null   int64  \n",
      " 7   out_file_size      5000 non-null   int64  \n",
      " 8   dtgrms_sent        5000 non-null   object \n",
      " 9   dtgrms_received    5000 non-null   object \n",
      " 10  dtgrms_corrupt     5000 non-null   object \n",
      " 11  tx_errors          5000 non-null   int64  \n",
      " 12  tx_dropped         5000 non-null   int64  \n",
      " 13  rx_errors          5000 non-null   int64  \n",
      " 14  rx_dropped         5000 non-null   int64  \n",
      " 15  snmp_OutDatagrams  5000 non-null   int64  \n",
      " 16  snmp_SndbufErrors  5000 non-null   int64  \n",
      " 17  snmp_InDatagrams   5000 non-null   int64  \n",
      " 18  snmp_InErrors      5000 non-null   int64  \n",
      " 19  snmp_RcvbufErrors  5000 non-null   int64  \n",
      "dtypes: bool(1), float64(1), int64(15), object(3)\n",
      "memory usage: 786.1+ KB\n"
     ]
    }
   ],
   "source": [
    "import pandas as pd\n",
    "\n",
    "tests1 = pd.read_csv('https://raw.githubusercontent.com/Gert-Jan1966/DataDiodesAndPacketLoss/main/Testresults/Baseline/default/pydiode/testresults_pydiode_1_100000000.csv')\n",
    "tests2 = pd.read_csv('https://raw.githubusercontent.com/Gert-Jan1966/DataDiodesAndPacketLoss/main/Testresults/Baseline/default/pydiode/testresults_pydiode_1_250000000.csv')\n",
    "tests3 = pd.read_csv('https://raw.githubusercontent.com/Gert-Jan1966/DataDiodesAndPacketLoss/main/Testresults/Baseline/default/pydiode/testresults_pydiode_1_500000000.csv')\n",
    "tests4 = pd.read_csv('https://raw.githubusercontent.com/Gert-Jan1966/DataDiodesAndPacketLoss/main/Testresults/Baseline/default/pydiode/testresults_pydiode_1_750000000.csv')\n",
    "tests5 = pd.read_csv('https://raw.githubusercontent.com/Gert-Jan1966/DataDiodesAndPacketLoss/main/Testresults/Baseline/default/pydiode/testresults_pydiode_1_1000000000.csv')\n",
    "results = pd.concat([tests1, tests2, tests3, tests4, tests5])\n",
    "results.info()"
   ]
  },
  {
   "cell_type": "markdown",
   "id": "01357abb",
   "metadata": {},
   "source": [
    "#### Transfer success vs Transfer failure"
   ]
  },
  {
   "cell_type": "code",
   "execution_count": 2,
   "id": "383e6319",
   "metadata": {},
   "outputs": [
    {
     "data": {
      "text/plain": [
       "Xfer_success\n",
       "True     4513\n",
       "False     487\n",
       "Name: count, dtype: int64"
      ]
     },
     "execution_count": 2,
     "metadata": {},
     "output_type": "execute_result"
    }
   ],
   "source": [
    "results['Xfer_success'].value_counts()"
   ]
  },
  {
   "cell_type": "markdown",
   "id": "b2bb4f24",
   "metadata": {},
   "source": [
    "#### Did we lose Frames at the Link layer?\n",
    "In that case, at least one of 'tx_errors', 'tx_dropped', 'rx_errors' or 'rx_dropped' should not be zero....."
   ]
  },
  {
   "cell_type": "code",
   "execution_count": 3,
   "id": "f5cd3c1d",
   "metadata": {},
   "outputs": [
    {
     "data": {
      "text/plain": [
       "Series([], Name: count, dtype: int64)"
      ]
     },
     "execution_count": 3,
     "metadata": {},
     "output_type": "execute_result"
    }
   ],
   "source": [
    "results.query('(tx_errors != 0) | (tx_dropped != 0) | (rx_errors != 0) | (rx_dropped != 0)').value_counts()"
   ]
  },
  {
   "cell_type": "markdown",
   "id": "cc96a5c4",
   "metadata": {},
   "source": [
    "#### How many trials with receiver socket buffer errors? (lost Segments)"
   ]
  },
  {
   "cell_type": "code",
   "execution_count": 4,
   "id": "64567057",
   "metadata": {},
   "outputs": [
    {
     "data": {
      "text/plain": [
       "bitrate     trial  sender_rc  receiver_rc  Xfer_time  Xfer_success  in_file_size  out_file_size  dtgrms_sent  dtgrms_received  dtgrms_corrupt  tx_errors  tx_dropped  rx_errors  rx_dropped  snmp_OutDatagrams  snmp_SndbufErrors  snmp_InDatagrams  snmp_InErrors  snmp_RcvbufErrors\n",
       "1000000000  999    0          0            1.360339   False         125000000     123157800      na           na               na              0          0           0          0           13575              1427               13566             6              6                    1\n",
       "500000000   449    0          0            2.181204   False         125000000     123157800      na           na               na              0          0           0          0           13575              0                  13569             3              3                    1\n",
       "750000000   10     0          0            1.486707   False         125000000     123157800      na           na               na              0          0           0          0           13575              0                  13570             2              2                    1\n",
       "            11     0          0            1.481277   False         125000000     123157800      na           na               na              0          0           0          0           13575              0                  13571             1              1                    1\n",
       "            20     0          0            1.533030   False         125000000     123157800      na           na               na              0          0           0          0           13575              0                  13570             2              2                    1\n",
       "                                                                                                                                                                                                                                                                                        ..\n",
       "            82     0          0            1.479789   False         125000000     123157800      na           na               na              0          0           0          0           13575              0                  13569             3              3                    1\n",
       "            99     0          0            1.509106   False         125000000     123157800      na           na               na              0          0           0          0           13575              0                  13569             3              3                    1\n",
       "            111    0          0            1.527515   False         125000000     123157800      na           na               na              0          0           0          0           13575              0                  13569             3              3                    1\n",
       "            123    0          0            1.480179   False         125000000     123157800      na           na               na              0          0           0          0           13575              0                  13570             2              2                    1\n",
       "            137    0          0            1.514676   False         125000000     123157800      na           na               na              0          0           0          0           13575              0                  13571             1              1                    1\n",
       "Name: count, Length: 486, dtype: int64"
      ]
     },
     "execution_count": 4,
     "metadata": {},
     "output_type": "execute_result"
    }
   ],
   "source": [
    "results.query('snmp_RcvbufErrors != 0').value_counts()"
   ]
  },
  {
   "cell_type": "markdown",
   "id": "c2db0954",
   "metadata": {},
   "source": [
    "#### Does the number of receiver socket InErrors equal the number of receiver buffer errors?"
   ]
  },
  {
   "cell_type": "code",
   "execution_count": 5,
   "id": "2875bdb3",
   "metadata": {},
   "outputs": [
    {
     "data": {
      "text/plain": [
       "Series([], Name: count, dtype: int64)"
      ]
     },
     "execution_count": 5,
     "metadata": {},
     "output_type": "execute_result"
    }
   ],
   "source": [
    "results.query('snmp_InErrors != snmp_RcvbufErrors').value_counts()"
   ]
  },
  {
   "cell_type": "markdown",
   "id": "a1f9711e",
   "metadata": {},
   "source": [
    "#### Do all unsuccessful trials match all trials with receiver buffer errors?"
   ]
  },
  {
   "cell_type": "code",
   "execution_count": 6,
   "id": "080b56fe",
   "metadata": {},
   "outputs": [
    {
     "data": {
      "text/plain": [
       "bitrate     trial  sender_rc  receiver_rc  Xfer_time  Xfer_success  in_file_size  out_file_size  dtgrms_sent  dtgrms_received  dtgrms_corrupt  tx_errors  tx_dropped  rx_errors  rx_dropped  snmp_OutDatagrams  snmp_SndbufErrors  snmp_InDatagrams  snmp_InErrors  snmp_RcvbufErrors\n",
       "1000000000  999    0          0            1.360339   False         125000000     123157800      na           na               na              0          0           0          0           13575              1427               13566             6              6                    1\n",
       "500000000   449    0          0            2.181204   False         125000000     123157800      na           na               na              0          0           0          0           13575              0                  13569             3              3                    1\n",
       "750000000   10     0          0            1.486707   False         125000000     123157800      na           na               na              0          0           0          0           13575              0                  13570             2              2                    1\n",
       "            11     0          0            1.481277   False         125000000     123157800      na           na               na              0          0           0          0           13575              0                  13571             1              1                    1\n",
       "            20     0          0            1.533030   False         125000000     123157800      na           na               na              0          0           0          0           13575              0                  13570             2              2                    1\n",
       "                                                                                                                                                                                                                                                                                        ..\n",
       "            82     0          0            1.479789   False         125000000     123157800      na           na               na              0          0           0          0           13575              0                  13569             3              3                    1\n",
       "            99     0          0            1.509106   False         125000000     123157800      na           na               na              0          0           0          0           13575              0                  13569             3              3                    1\n",
       "            111    0          0            1.527515   False         125000000     123157800      na           na               na              0          0           0          0           13575              0                  13569             3              3                    1\n",
       "            123    0          0            1.480179   False         125000000     123157800      na           na               na              0          0           0          0           13575              0                  13570             2              2                    1\n",
       "            137    0          0            1.514676   False         125000000     123157800      na           na               na              0          0           0          0           13575              0                  13571             1              1                    1\n",
       "Name: count, Length: 486, dtype: int64"
      ]
     },
     "execution_count": 6,
     "metadata": {},
     "output_type": "execute_result"
    }
   ],
   "source": [
    "results.query('(snmp_RcvbufErrors != 0) & (Xfer_success == False)').value_counts()"
   ]
  },
  {
   "cell_type": "markdown",
   "id": "b685d96f",
   "metadata": {},
   "source": [
    "#### And what about snmp_SndbufErrors?"
   ]
  },
  {
   "cell_type": "code",
   "execution_count": 7,
   "id": "3272b07e",
   "metadata": {},
   "outputs": [
    {
     "data": {
      "text/plain": [
       "bitrate     trial  sender_rc  receiver_rc  Xfer_time  Xfer_success  in_file_size  out_file_size  dtgrms_sent  dtgrms_received  dtgrms_corrupt  tx_errors  tx_dropped  rx_errors  rx_dropped  snmp_OutDatagrams  snmp_SndbufErrors  snmp_InDatagrams  snmp_InErrors  snmp_RcvbufErrors\n",
       "1000000000  999    0          0            1.360339   False         125000000     123157800      na           na               na              0          0           0          0           13575              1427               13566             6              6                    1\n",
       "750000000   68     0          0            1.523799   True          125000000     125000000      na           na               na              0          0           0          0           13575              1                  13572             0              0                    1\n",
       "            143    0          0            1.518534   True          125000000     125000000      na           na               na              0          0           0          0           13575              1                  13572             0              0                    1\n",
       "            160    0          0            1.527187   True          125000000     125000000      na           na               na              0          0           0          0           13575              1                  13572             0              0                    1\n",
       "            176    0          0            1.500103   True          125000000     125000000      na           na               na              0          0           0          0           13575              1                  13572             0              0                    1\n",
       "                                                                                                                                                                                                                                                                                        ..\n",
       "1000000000  11     0          0            1.336312   True          125000000     125000000      na           na               na              0          0           0          0           13575              1456               13572             0              0                    1\n",
       "            12     0          0            1.348152   True          125000000     125000000      na           na               na              0          0           0          0           13575              1606               13572             0              0                    1\n",
       "            13     0          0            1.362481   True          125000000     125000000      na           na               na              0          0           0          0           13575              1145               13572             0              0                    1\n",
       "            14     0          0            1.120747   False         125000000     123157800      na           na               na              0          0           0          0           13575              1627               13569             3              3                    1\n",
       "            15     0          0            1.345274   False         125000000     123157800      na           na               na              0          0           0          0           13575              1620               13571             1              1                    1\n",
       "Name: count, Length: 1010, dtype: int64"
      ]
     },
     "execution_count": 7,
     "metadata": {},
     "output_type": "execute_result"
    }
   ],
   "source": [
    "results.query('(snmp_SndbufErrors != 0)').value_counts()\n",
    "#results.query('(snmp_SndbufErrors != 0) & (Xfer_success == True)').value_counts()"
   ]
  },
  {
   "cell_type": "markdown",
   "id": "d277db81",
   "metadata": {},
   "source": [
    "#### Are there SndbufErrors without RcvbufErrors where the transfer failed?"
   ]
  },
  {
   "cell_type": "code",
   "execution_count": 8,
   "id": "a07f43c5",
   "metadata": {},
   "outputs": [
    {
     "data": {
      "text/plain": [
       "bitrate     trial  sender_rc  receiver_rc  Xfer_time  Xfer_success  in_file_size  out_file_size  dtgrms_sent  dtgrms_received  dtgrms_corrupt  tx_errors  tx_dropped  rx_errors  rx_dropped  snmp_OutDatagrams  snmp_SndbufErrors  snmp_InDatagrams  snmp_InErrors  snmp_RcvbufErrors\n",
       "1000000000  378    0          0            1.127594   False         125000000     0              na           na               na              0          0           0          0           13575              1453               1                 0              0                    1\n",
       "Name: count, dtype: int64"
      ]
     },
     "execution_count": 8,
     "metadata": {},
     "output_type": "execute_result"
    }
   ],
   "source": [
    "results.query('(snmp_SndbufErrors != 0) & (snmp_RcvbufErrors == 0) & (Xfer_success == False)').value_counts()"
   ]
  }
 ],
 "metadata": {
  "kernelspec": {
   "display_name": "Python 3 (ipykernel)",
   "language": "python",
   "name": "python3"
  },
  "language_info": {
   "codemirror_mode": {
    "name": "ipython",
    "version": 3
   },
   "file_extension": ".py",
   "mimetype": "text/x-python",
   "name": "python",
   "nbconvert_exporter": "python",
   "pygments_lexer": "ipython3",
   "version": "3.12.3"
  }
 },
 "nbformat": 4,
 "nbformat_minor": 5
}
