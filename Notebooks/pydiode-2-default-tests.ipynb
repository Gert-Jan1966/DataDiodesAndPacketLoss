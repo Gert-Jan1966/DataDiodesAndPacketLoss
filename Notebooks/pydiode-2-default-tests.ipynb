{
 "cells": [
  {
   "cell_type": "markdown",
   "id": "1564e92d",
   "metadata": {},
   "source": [
    "## Analysis pydiode results (redundancy=2) with UDP.c kernel module"
   ]
  },
  {
   "cell_type": "code",
   "execution_count": 20,
   "id": "93b33b6d",
   "metadata": {},
   "outputs": [
    {
     "name": "stdout",
     "output_type": "stream",
     "text": [
      "<class 'pandas.core.frame.DataFrame'>\n",
      "Index: 5000 entries, 0 to 999\n",
      "Data columns (total 20 columns):\n",
      " #   Column             Non-Null Count  Dtype  \n",
      "---  ------             --------------  -----  \n",
      " 0   bitrate            5000 non-null   int64  \n",
      " 1   trial              5000 non-null   int64  \n",
      " 2   sender_rc          5000 non-null   int64  \n",
      " 3   receiver_rc        5000 non-null   int64  \n",
      " 4   Xfer_time          5000 non-null   float64\n",
      " 5   Xfer_success       5000 non-null   bool   \n",
      " 6   in_file_size       5000 non-null   int64  \n",
      " 7   out_file_size      5000 non-null   int64  \n",
      " 8   dtgrms_sent        5000 non-null   object \n",
      " 9   dtgrms_received    5000 non-null   object \n",
      " 10  dtgrms_corrupt     5000 non-null   object \n",
      " 11  tx_errors          5000 non-null   int64  \n",
      " 12  tx_dropped         5000 non-null   int64  \n",
      " 13  rx_errors          5000 non-null   int64  \n",
      " 14  rx_dropped         5000 non-null   int64  \n",
      " 15  snmp_OutDatagrams  5000 non-null   int64  \n",
      " 16  snmp_SndbufErrors  5000 non-null   int64  \n",
      " 17  snmp_InDatagrams   5000 non-null   int64  \n",
      " 18  snmp_InErrors      5000 non-null   int64  \n",
      " 19  snmp_RcvbufErrors  5000 non-null   int64  \n",
      "dtypes: bool(1), float64(1), int64(15), object(3)\n",
      "memory usage: 786.1+ KB\n"
     ]
    }
   ],
   "source": [
    "import pandas as pd\n",
    "\n",
    "tests1 = pd.read_csv('https://raw.githubusercontent.com/Gert-Jan1966/DataDiodesAndPacketLoss/main/Testresults/Baseline/default/pydiode/testresults_pydiode_2_100000000.csv')\n",
    "tests2 = pd.read_csv('https://raw.githubusercontent.com/Gert-Jan1966/DataDiodesAndPacketLoss/main/Testresults/Baseline/default/pydiode/testresults_pydiode_2_250000000.csv')\n",
    "tests3 = pd.read_csv('https://raw.githubusercontent.com/Gert-Jan1966/DataDiodesAndPacketLoss/main/Testresults/Baseline/default/pydiode/testresults_pydiode_2_500000000.csv')\n",
    "tests4 = pd.read_csv('https://raw.githubusercontent.com/Gert-Jan1966/DataDiodesAndPacketLoss/main/Testresults/Baseline/default/pydiode/testresults_pydiode_2_750000000.csv')\n",
    "tests5 = pd.read_csv('https://raw.githubusercontent.com/Gert-Jan1966/DataDiodesAndPacketLoss/main/Testresults/Baseline/default/pydiode/testresults_pydiode_2_1000000000.csv')\n",
    "results = pd.concat([tests1, tests2, tests3, tests4, tests5])\n",
    "results.info()"
   ]
  },
  {
   "cell_type": "markdown",
   "id": "01357abb",
   "metadata": {},
   "source": [
    "#### Transfer success vs Transfer failure"
   ]
  },
  {
   "cell_type": "code",
   "execution_count": 21,
   "id": "383e6319",
   "metadata": {},
   "outputs": [
    {
     "data": {
      "text/plain": [
       "Xfer_success\n",
       "True    5000\n",
       "Name: count, dtype: int64"
      ]
     },
     "execution_count": 21,
     "metadata": {},
     "output_type": "execute_result"
    }
   ],
   "source": [
    "results['Xfer_success'].value_counts()"
   ]
  },
  {
   "cell_type": "markdown",
   "id": "b2bb4f24",
   "metadata": {},
   "source": [
    "#### Did we lose Frames at the Link layer?\n",
    "In that case, at least one of 'tx_errors', 'tx_dropped', 'rx_errors' or 'rx_dropped' should not be zero....."
   ]
  },
  {
   "cell_type": "code",
   "execution_count": 22,
   "id": "f5cd3c1d",
   "metadata": {},
   "outputs": [
    {
     "data": {
      "text/plain": [
       "Series([], Name: count, dtype: int64)"
      ]
     },
     "execution_count": 22,
     "metadata": {},
     "output_type": "execute_result"
    }
   ],
   "source": [
    "results.query('(tx_errors != 0) | (tx_dropped != 0) | (rx_errors != 0) | (rx_dropped != 0)').value_counts()"
   ]
  },
  {
   "cell_type": "markdown",
   "id": "cc96a5c4",
   "metadata": {},
   "source": [
    "#### How many trials with receiver socket buffer errors? (lost Segments)"
   ]
  },
  {
   "cell_type": "code",
   "execution_count": 23,
   "id": "64567057",
   "metadata": {},
   "outputs": [
    {
     "data": {
      "text/plain": [
       "bitrate     trial  sender_rc  receiver_rc  Xfer_time  Xfer_success  in_file_size  out_file_size  dtgrms_sent  dtgrms_received  dtgrms_corrupt  tx_errors  tx_dropped  rx_errors  rx_dropped  snmp_OutDatagrams  snmp_SndbufErrors  snmp_InDatagrams  snmp_InErrors  snmp_RcvbufErrors\n",
       "1000000000  998    0          0            2.162598   True          125000000     125000000      na           na               na              0          0           0          0           27146              3239               27142             1              1                    1\n",
       "250000000   941    0          0            8.319111   True          125000000     125000000      na           na               na              0          0           0          0           27146              0                  27141             2              2                    1\n",
       "500000000   588    0          0            4.280946   True          125000000     125000000      na           na               na              0          0           0          0           27146              0                  27142             1              1                    1\n",
       "750000000   1      0          0            2.980831   True          125000000     125000000      na           na               na              0          0           0          0           27146              0                  27141             2              2                    1\n",
       "            13     0          0            2.976210   True          125000000     125000000      na           na               na              0          0           0          0           27146              0                  27138             5              5                    1\n",
       "                                                                                                                                                                                                                                                                                        ..\n",
       "            274    0          0            2.873350   True          125000000     125000000      na           na               na              0          0           0          0           27146              0                  27140             3              3                    1\n",
       "            293    0          0            2.938855   True          125000000     125000000      na           na               na              0          0           0          0           27146              0                  27142             1              1                    1\n",
       "            298    0          0            2.942294   True          125000000     125000000      na           na               na              0          0           0          0           27146              0                  27140             3              3                    1\n",
       "            302    0          0            2.900525   True          125000000     125000000      na           na               na              0          0           0          0           27146              0                  27140             3              3                    1\n",
       "            327    0          0            2.903222   True          125000000     125000000      na           na               na              0          0           0          0           27146              0                  27140             3              3                    1\n",
       "Name: count, Length: 502, dtype: int64"
      ]
     },
     "execution_count": 23,
     "metadata": {},
     "output_type": "execute_result"
    }
   ],
   "source": [
    "results.query('snmp_RcvbufErrors != 0').value_counts()"
   ]
  },
  {
   "cell_type": "markdown",
   "id": "c2db0954",
   "metadata": {},
   "source": [
    "#### Does the number of receiver socket InErrors equal the number of receiver buffer errors?"
   ]
  },
  {
   "cell_type": "code",
   "execution_count": 24,
   "id": "2875bdb3",
   "metadata": {},
   "outputs": [
    {
     "data": {
      "text/plain": [
       "Series([], Name: count, dtype: int64)"
      ]
     },
     "execution_count": 24,
     "metadata": {},
     "output_type": "execute_result"
    }
   ],
   "source": [
    "results.query('snmp_InErrors != snmp_RcvbufErrors').value_counts()"
   ]
  },
  {
   "cell_type": "markdown",
   "id": "a1f9711e",
   "metadata": {},
   "source": [
    "#### Do all unsuccessful trials match all trials with receiver buffer errors?"
   ]
  },
  {
   "cell_type": "code",
   "execution_count": 25,
   "id": "080b56fe",
   "metadata": {},
   "outputs": [
    {
     "data": {
      "text/plain": [
       "Series([], Name: count, dtype: int64)"
      ]
     },
     "execution_count": 25,
     "metadata": {},
     "output_type": "execute_result"
    }
   ],
   "source": [
    "results.query('(snmp_RcvbufErrors != 0) & (Xfer_success == False)').value_counts()"
   ]
  },
  {
   "cell_type": "markdown",
   "id": "161ef85a",
   "metadata": {},
   "source": [
    "#### And what about snmp_SndbufErrors?"
   ]
  },
  {
   "cell_type": "code",
   "execution_count": 26,
   "id": "d8073ead",
   "metadata": {},
   "outputs": [
    {
     "data": {
      "text/plain": [
       "bitrate     trial  sender_rc  receiver_rc  Xfer_time  Xfer_success  in_file_size  out_file_size  dtgrms_sent  dtgrms_received  dtgrms_corrupt  tx_errors  tx_dropped  rx_errors  rx_dropped  snmp_OutDatagrams  snmp_SndbufErrors  snmp_InDatagrams  snmp_InErrors  snmp_RcvbufErrors\n",
       "1000000000  999    0          0            2.165705   True          125000000     125000000      na           na               na              0          0           0          0           27146              2908               27143             0              0                    1\n",
       "500000000   510    0          0            4.276606   True          125000000     125000000      na           na               na              0          0           0          0           27146              1                  27143             0              0                    1\n",
       "750000000   44     0          0            2.972028   True          125000000     125000000      na           na               na              0          0           0          0           27146              1                  27143             0              0                    1\n",
       "            148    0          0            2.943787   True          125000000     125000000      na           na               na              0          0           0          0           27146              1                  27143             0              0                    1\n",
       "            313    0          0            2.972032   True          125000000     125000000      na           na               na              0          0           0          0           27146              1                  27143             0              0                    1\n",
       "                                                                                                                                                                                                                                                                                        ..\n",
       "1000000000  11     0          0            2.165072   True          125000000     125000000      na           na               na              0          0           0          0           27146              2947               27142             1              1                    1\n",
       "            12     0          0            2.165134   True          125000000     125000000      na           na               na              0          0           0          0           27146              3255               27143             0              0                    1\n",
       "            13     0          0            2.163743   True          125000000     125000000      na           na               na              0          0           0          0           27146              3296               27143             0              0                    1\n",
       "            14     0          0            2.163668   True          125000000     125000000      na           na               na              0          0           0          0           27146              3239               27143             0              0                    1\n",
       "            15     0          0            2.165027   True          125000000     125000000      na           na               na              0          0           0          0           27146              3286               27143             0              0                    1\n",
       "Name: count, Length: 1020, dtype: int64"
      ]
     },
     "execution_count": 26,
     "metadata": {},
     "output_type": "execute_result"
    }
   ],
   "source": [
    "results.query('(snmp_SndbufErrors != 0)').value_counts()\n",
    "#results.query('(snmp_SndbufErrors != 0) & (Xfer_success == True)').value_counts()"
   ]
  },
  {
   "cell_type": "markdown",
   "id": "877d3590",
   "metadata": {},
   "source": [
    "#### Are there SndbufErrors without RcvbufErrors where the transfer failed?"
   ]
  },
  {
   "cell_type": "code",
   "execution_count": 27,
   "id": "a13a2d2c",
   "metadata": {},
   "outputs": [
    {
     "data": {
      "text/plain": [
       "Series([], Name: count, dtype: int64)"
      ]
     },
     "execution_count": 27,
     "metadata": {},
     "output_type": "execute_result"
    }
   ],
   "source": [
    "results.query('(snmp_SndbufErrors != 0) & (snmp_RcvbufErrors == 0) & (Xfer_success == False)').value_counts()"
   ]
  }
 ],
 "metadata": {
  "kernelspec": {
   "display_name": "Python 3 (ipykernel)",
   "language": "python",
   "name": "python3"
  }
 },
 "nbformat": 4,
 "nbformat_minor": 5
}
