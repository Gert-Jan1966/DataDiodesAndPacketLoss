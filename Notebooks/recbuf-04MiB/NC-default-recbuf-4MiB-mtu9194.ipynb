{
 "cells": [
  {
   "cell_type": "markdown",
   "id": "1564e92d",
   "metadata": {},
   "source": [
    "## Netcat - UDP.c - 4 MiB rcv sckt buf - MTU 9194"
   ]
  },
  {
   "cell_type": "code",
   "execution_count": null,
   "id": "93b33b6d",
   "metadata": {},
   "outputs": [
    {
     "name": "stdout",
     "output_type": "stream",
     "text": [
      "<class 'pandas.core.frame.DataFrame'>\n",
      "Index: 5000 entries, 0 to 999\n",
      "Data columns (total 20 columns):\n",
      " #   Column             Non-Null Count  Dtype  \n",
      "---  ------             --------------  -----  \n",
      " 0   bitrate            5000 non-null   int64  \n",
      " 1   trial              5000 non-null   int64  \n",
      " 2   sender_rc          5000 non-null   int64  \n",
      " 3   receiver_rc        5000 non-null   int64  \n",
      " 4   Xfer_time          5000 non-null   float64\n",
      " 5   Xfer_success       5000 non-null   bool   \n",
      " 6   in_file_size       5000 non-null   int64  \n",
      " 7   out_file_size      5000 non-null   int64  \n",
      " 8   dtgrms_sent        5000 non-null   object \n",
      " 9   dtgrms_received    5000 non-null   object \n",
      " 10  dtgrms_corrupt     5000 non-null   object \n",
      " 11  tx_errors          5000 non-null   int64  \n",
      " 12  tx_dropped         5000 non-null   int64  \n",
      " 13  rx_errors          5000 non-null   int64  \n",
      " 14  rx_dropped         5000 non-null   int64  \n",
      " 15  snmp_OutDatagrams  5000 non-null   int64  \n",
      " 16  snmp_SndbufErrors  5000 non-null   int64  \n",
      " 17  snmp_InDatagrams   5000 non-null   int64  \n",
      " 18  snmp_InErrors      5000 non-null   int64  \n",
      " 19  snmp_RcvbufErrors  5000 non-null   int64  \n",
      "dtypes: bool(1), float64(1), int64(15), object(3)\n",
      "memory usage: 786.1+ KB\n"
     ]
    }
   ],
   "source": [
    "import pandas as pd\n",
    "\n",
    "tests1 = pd.read_csv('https://raw.githubusercontent.com/Gert-Jan1966/DataDiodesAndPacketLoss/main/Testresults/recbuff-4mib/default/nc-mtu9194/testresults_nc_100000000.csv')\n",
    "tests2 = pd.read_csv('https://raw.githubusercontent.com/Gert-Jan1966/DataDiodesAndPacketLoss/main/Testresults/recbuff-4mib/default/nc-mtu9194/testresults_nc_250000000.csv')\n",
    "tests3 = pd.read_csv('https://raw.githubusercontent.com/Gert-Jan1966/DataDiodesAndPacketLoss/main/Testresults/recbuff-4mib/default/nc-mtu9194/testresults_nc_500000000.csv')\n",
    "tests4 = pd.read_csv('https://raw.githubusercontent.com/Gert-Jan1966/DataDiodesAndPacketLoss/main/Testresults/recbuff-4mib/default/nc-mtu9194/testresults_nc_750000000.csv')\n",
    "tests5 = pd.read_csv('https://raw.githubusercontent.com/Gert-Jan1966/DataDiodesAndPacketLoss/main/Testresults/recbuff-4mib/default/nc-mtu9194/testresults_nc_1000000000.csv')\n",
    "results = pd.concat([tests1, tests2, tests3, tests4, tests5])\n",
    "results.info()"
   ]
  },
  {
   "cell_type": "markdown",
   "id": "01357abb",
   "metadata": {},
   "source": [
    "#### Transfer success vs Transfer failure"
   ]
  },
  {
   "cell_type": "code",
   "execution_count": null,
   "id": "383e6319",
   "metadata": {},
   "outputs": [
    {
     "data": {
      "text/plain": [
       "Xfer_success\n",
       "True     4801\n",
       "False     199\n",
       "Name: count, dtype: int64"
      ]
     },
     "execution_count": 2,
     "metadata": {},
     "output_type": "execute_result"
    }
   ],
   "source": [
    "results['Xfer_success'].value_counts()"
   ]
  },
  {
   "cell_type": "markdown",
   "id": "b2bb4f24",
   "metadata": {},
   "source": [
    "#### Did we lose Frames at the Link layer?\n",
    "In that case, at least one of 'tx_errors', 'tx_dropped', 'rx_errors' or 'rx_dropped' should not be zero....."
   ]
  },
  {
   "cell_type": "code",
   "execution_count": null,
   "id": "f5cd3c1d",
   "metadata": {},
   "outputs": [
    {
     "data": {
      "text/plain": [
       "Series([], Name: count, dtype: int64)"
      ]
     },
     "execution_count": 3,
     "metadata": {},
     "output_type": "execute_result"
    }
   ],
   "source": [
    "results.query('(tx_errors != 0) | (tx_dropped != 0) | (rx_errors != 0) | (rx_dropped != 0)').value_counts()"
   ]
  },
  {
   "cell_type": "markdown",
   "id": "cc96a5c4",
   "metadata": {},
   "source": [
    "#### How many trials with receiver socket buffer errors? (lost Segments)"
   ]
  },
  {
   "cell_type": "code",
   "execution_count": null,
   "id": "64567057",
   "metadata": {},
   "outputs": [
    {
     "data": {
      "text/plain": [
       "bitrate     trial  sender_rc  receiver_rc  Xfer_time  Xfer_success  in_file_size  out_file_size  dtgrms_sent  dtgrms_received  dtgrms_corrupt  tx_errors  tx_dropped  rx_errors  rx_dropped  snmp_OutDatagrams  snmp_SndbufErrors  snmp_InDatagrams  snmp_InErrors  snmp_RcvbufErrors\n",
       "1000000000  972    0          0            3.722411   False         125000000     72538432       na           na               na              0          0           0          0           7630               0                  4428              3202           3202                 1\n",
       "100000000   15     0          0            11.026017  False         125000000     106043712      na           na               na              0          0           0          0           7630               0                  6473              1157           1157                 1\n",
       "            20     0          0            11.039129  False         125000000     123476288      na           na               na              0          0           0          0           7630               0                  7537              93             93                   1\n",
       "            25     0          0            11.032917  False         125000000     124098880      na           na               na              0          0           0          0           7630               0                  7575              55             55                   1\n",
       "            27     0          0            11.030513  False         125000000     124115264      na           na               na              0          0           0          0           7630               0                  7576              54             54                   1\n",
       "                                                                                                                                                                                                                                                                                        ..\n",
       "            123    0          0            11.092481  False         125000000     122149184      na           na               na              0          0           0          0           7630               0                  7456              174            174                  1\n",
       "            137    0          0            11.034850  False         125000000     111155520      na           na               na              0          0           0          0           7630               0                  6785              845            845                  1\n",
       "            152    0          0            11.036979  False         125000000     123705664      na           na               na              0          0           0          0           7630               0                  7551              79             79                   1\n",
       "            172    0          0            11.067429  False         125000000     122755392      na           na               na              0          0           0          0           7630               0                  7493              137            137                  1\n",
       "            202    0          0            11.037076  False         125000000     111352128      na           na               na              0          0           0          0           7630               0                  6797              833            833                  1\n",
       "Name: count, Length: 199, dtype: int64"
      ]
     },
     "execution_count": 4,
     "metadata": {},
     "output_type": "execute_result"
    }
   ],
   "source": [
    "results.query('snmp_RcvbufErrors != 0').value_counts()"
   ]
  },
  {
   "cell_type": "markdown",
   "id": "c2db0954",
   "metadata": {},
   "source": [
    "#### Does the number of receiver socket InErrors equal the number of receiver buffer errors?"
   ]
  },
  {
   "cell_type": "code",
   "execution_count": null,
   "id": "2875bdb3",
   "metadata": {},
   "outputs": [
    {
     "data": {
      "text/plain": [
       "Series([], Name: count, dtype: int64)"
      ]
     },
     "execution_count": 5,
     "metadata": {},
     "output_type": "execute_result"
    }
   ],
   "source": [
    "results.query('snmp_InErrors != snmp_RcvbufErrors').value_counts()"
   ]
  },
  {
   "cell_type": "markdown",
   "id": "a1f9711e",
   "metadata": {},
   "source": [
    "#### Do all unsuccessful trials match all trials with receiver buffer errors?"
   ]
  },
  {
   "cell_type": "code",
   "execution_count": null,
   "id": "080b56fe",
   "metadata": {},
   "outputs": [
    {
     "data": {
      "text/plain": [
       "bitrate     trial  sender_rc  receiver_rc  Xfer_time  Xfer_success  in_file_size  out_file_size  dtgrms_sent  dtgrms_received  dtgrms_corrupt  tx_errors  tx_dropped  rx_errors  rx_dropped  snmp_OutDatagrams  snmp_SndbufErrors  snmp_InDatagrams  snmp_InErrors  snmp_RcvbufErrors\n",
       "1000000000  972    0          0            3.722411   False         125000000     72538432       na           na               na              0          0           0          0           7630               0                  4428              3202           3202                 1\n",
       "100000000   15     0          0            11.026017  False         125000000     106043712      na           na               na              0          0           0          0           7630               0                  6473              1157           1157                 1\n",
       "            20     0          0            11.039129  False         125000000     123476288      na           na               na              0          0           0          0           7630               0                  7537              93             93                   1\n",
       "            25     0          0            11.032917  False         125000000     124098880      na           na               na              0          0           0          0           7630               0                  7575              55             55                   1\n",
       "            27     0          0            11.030513  False         125000000     124115264      na           na               na              0          0           0          0           7630               0                  7576              54             54                   1\n",
       "                                                                                                                                                                                                                                                                                        ..\n",
       "            123    0          0            11.092481  False         125000000     122149184      na           na               na              0          0           0          0           7630               0                  7456              174            174                  1\n",
       "            137    0          0            11.034850  False         125000000     111155520      na           na               na              0          0           0          0           7630               0                  6785              845            845                  1\n",
       "            152    0          0            11.036979  False         125000000     123705664      na           na               na              0          0           0          0           7630               0                  7551              79             79                   1\n",
       "            172    0          0            11.067429  False         125000000     122755392      na           na               na              0          0           0          0           7630               0                  7493              137            137                  1\n",
       "            202    0          0            11.037076  False         125000000     111352128      na           na               na              0          0           0          0           7630               0                  6797              833            833                  1\n",
       "Name: count, Length: 199, dtype: int64"
      ]
     },
     "execution_count": 6,
     "metadata": {},
     "output_type": "execute_result"
    }
   ],
   "source": [
    "results.query('(snmp_RcvbufErrors != 0) & (Xfer_success == False)').value_counts()"
   ]
  },
  {
   "cell_type": "markdown",
   "id": "b685d96f",
   "metadata": {},
   "source": [
    "#### And what about snmp_SndbufErrors?"
   ]
  },
  {
   "cell_type": "code",
   "execution_count": null,
   "id": "3272b07e",
   "metadata": {},
   "outputs": [
    {
     "data": {
      "text/plain": [
       "Series([], Name: count, dtype: int64)"
      ]
     },
     "execution_count": 7,
     "metadata": {},
     "output_type": "execute_result"
    }
   ],
   "source": [
    "results.query('(snmp_SndbufErrors != 0)').value_counts()\n",
    "#results.query('(snmp_SndbufErrors != 0) & (Xfer_success == True)').value_counts()"
   ]
  },
  {
   "cell_type": "markdown",
   "id": "d277db81",
   "metadata": {},
   "source": [
    "#### Are there SndbufErrors without RcvbufErrors where the transfer failed?"
   ]
  },
  {
   "cell_type": "code",
   "execution_count": null,
   "id": "a07f43c5",
   "metadata": {},
   "outputs": [
    {
     "data": {
      "text/plain": [
       "Series([], Name: count, dtype: int64)"
      ]
     },
     "execution_count": 8,
     "metadata": {},
     "output_type": "execute_result"
    }
   ],
   "source": [
    "results.query('(snmp_SndbufErrors != 0) & (snmp_RcvbufErrors == 0) & (Xfer_success == False)').value_counts()"
   ]
  }
 ],
 "metadata": {
  "kernelspec": {
   "display_name": "Python 3 (ipykernel)",
   "language": "python",
   "name": "python3"
  }
 },
 "nbformat": 4,
 "nbformat_minor": 5
}
