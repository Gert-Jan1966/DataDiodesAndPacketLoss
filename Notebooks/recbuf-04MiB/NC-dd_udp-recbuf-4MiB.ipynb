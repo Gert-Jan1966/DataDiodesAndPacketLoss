{
 "cells": [
  {
   "cell_type": "markdown",
   "id": "1564e92d",
   "metadata": {},
   "source": [
    "## Netcat - dd_udp.c - 4 MiB rcv sckt buffer"
   ]
  },
  {
   "cell_type": "code",
   "execution_count": 1,
   "id": "93b33b6d",
   "metadata": {},
   "outputs": [
    {
     "name": "stdout",
     "output_type": "stream",
     "text": [
      "<class 'pandas.core.frame.DataFrame'>\n",
      "Index: 5000 entries, 0 to 999\n",
      "Data columns (total 20 columns):\n",
      " #   Column             Non-Null Count  Dtype  \n",
      "---  ------             --------------  -----  \n",
      " 0   bitrate            5000 non-null   int64  \n",
      " 1   trial              5000 non-null   int64  \n",
      " 2   sender_rc          5000 non-null   int64  \n",
      " 3   receiver_rc        5000 non-null   int64  \n",
      " 4   Xfer_time          5000 non-null   float64\n",
      " 5   Xfer_success       5000 non-null   bool   \n",
      " 6   in_file_size       5000 non-null   int64  \n",
      " 7   out_file_size      5000 non-null   int64  \n",
      " 8   dtgrms_sent        5000 non-null   int64  \n",
      " 9   dtgrms_received    5000 non-null   int64  \n",
      " 10  dtgrms_corrupt     5000 non-null   object \n",
      " 11  tx_errors          5000 non-null   int64  \n",
      " 12  tx_dropped         5000 non-null   int64  \n",
      " 13  rx_errors          5000 non-null   int64  \n",
      " 14  rx_dropped         5000 non-null   int64  \n",
      " 15  snmp_OutDatagrams  5000 non-null   int64  \n",
      " 16  snmp_SndbufErrors  5000 non-null   int64  \n",
      " 17  snmp_InDatagrams   5000 non-null   int64  \n",
      " 18  snmp_InErrors      5000 non-null   int64  \n",
      " 19  snmp_RcvbufErrors  5000 non-null   int64  \n",
      "dtypes: bool(1), float64(1), int64(17), object(1)\n",
      "memory usage: 786.1+ KB\n"
     ]
    }
   ],
   "source": [
    "import pandas as pd\n",
    "\n",
    "tests1 = pd.read_csv('https://raw.githubusercontent.com/Gert-Jan1966/DataDiodesAndPacketLoss/main/Testresults/recbuff-4mib/dd_udp.c/nc/testresults_nc_100000000.csv')\n",
    "tests2 = pd.read_csv('https://raw.githubusercontent.com/Gert-Jan1966/DataDiodesAndPacketLoss/main/Testresults/recbuff-4mib/dd_udp.c/nc/testresults_nc_250000000.csv')\n",
    "tests3 = pd.read_csv('https://raw.githubusercontent.com/Gert-Jan1966/DataDiodesAndPacketLoss/main/Testresults/recbuff-4mib/dd_udp.c/nc/testresults_nc_500000000.csv')\n",
    "tests4 = pd.read_csv('https://raw.githubusercontent.com/Gert-Jan1966/DataDiodesAndPacketLoss/main/Testresults/recbuff-4mib/dd_udp.c/nc/testresults_nc_750000000.csv')\n",
    "tests5 = pd.read_csv('https://raw.githubusercontent.com/Gert-Jan1966/DataDiodesAndPacketLoss/main/Testresults/recbuff-4mib/dd_udp.c/nc/testresults_nc_1000000000.csv')\n",
    "results = pd.concat([tests1, tests2, tests3, tests4, tests5])\n",
    "results.info()"
   ]
  },
  {
   "cell_type": "markdown",
   "id": "01357abb",
   "metadata": {},
   "source": [
    "#### Transfer success vs Transfer failure"
   ]
  },
  {
   "cell_type": "code",
   "execution_count": 2,
   "id": "383e6319",
   "metadata": {},
   "outputs": [
    {
     "data": {
      "text/plain": [
       "Xfer_success\n",
       "True     4905\n",
       "False      95\n",
       "Name: count, dtype: int64"
      ]
     },
     "execution_count": 2,
     "metadata": {},
     "output_type": "execute_result"
    }
   ],
   "source": [
    "results['Xfer_success'].value_counts()"
   ]
  },
  {
   "cell_type": "markdown",
   "id": "b2bb4f24",
   "metadata": {},
   "source": [
    "#### Did we lose Frames at the Link layer?\n",
    "In that case, at least one of 'tx_errors', 'tx_dropped', 'rx_errors' or 'rx_dropped' should not be zero....."
   ]
  },
  {
   "cell_type": "code",
   "execution_count": 3,
   "id": "f5cd3c1d",
   "metadata": {},
   "outputs": [
    {
     "data": {
      "text/plain": [
       "Series([], Name: count, dtype: int64)"
      ]
     },
     "execution_count": 3,
     "metadata": {},
     "output_type": "execute_result"
    }
   ],
   "source": [
    "results.query('(tx_errors != 0) | (tx_dropped != 0) | (rx_errors != 0) | (rx_dropped != 0)').value_counts()"
   ]
  },
  {
   "cell_type": "markdown",
   "id": "ccbedb08",
   "metadata": {},
   "source": [
    "#### Did we lose UDP Datagrams at the Transport layer? (needs dd_udp.c module)"
   ]
  },
  {
   "cell_type": "code",
   "execution_count": 4,
   "id": "5e337a69",
   "metadata": {},
   "outputs": [
    {
     "data": {
      "text/plain": [
       "Series([], Name: count, dtype: int64)"
      ]
     },
     "execution_count": 4,
     "metadata": {},
     "output_type": "execute_result"
    }
   ],
   "source": [
    "results.query('dtgrms_sent != dtgrms_received').value_counts()"
   ]
  },
  {
   "cell_type": "markdown",
   "id": "cc96a5c4",
   "metadata": {},
   "source": [
    "#### How many trials with receiver socket buffer errors? (lost Segments)"
   ]
  },
  {
   "cell_type": "code",
   "execution_count": 5,
   "id": "64567057",
   "metadata": {},
   "outputs": [
    {
     "data": {
      "text/plain": [
       "bitrate     trial  sender_rc  receiver_rc  Xfer_time  Xfer_success  in_file_size  out_file_size  dtgrms_sent  dtgrms_received  dtgrms_corrupt  tx_errors  tx_dropped  rx_errors  rx_dropped  snmp_OutDatagrams  snmp_SndbufErrors  snmp_InDatagrams  snmp_InErrors  snmp_RcvbufErrors\n",
       "1000000000  993    0          0            2.097323   False         125000000     83853312       7630         7630             na              0          0           0          0           7630               0                  5118              2512           2512                 1\n",
       "100000000   6      0          0            11.044010  False         125000000     120789312      7630         7630             na              0          0           0          0           7630               0                  7373              257            257                  1\n",
       "            34     0          0            11.034855  False         125000000     117610816      7630         7630             na              0          0           0          0           7630               0                  7179              451            451                  1\n",
       "            47     0          0            11.057923  False         125000000     118757696      7630         7630             na              0          0           0          0           7630               0                  7249              381            381                  1\n",
       "            74     0          0            11.031814  False         125000000     122132800      7630         7630             na              0          0           0          0           7630               0                  7455              175            175                  1\n",
       "                                                                                                                                                                                                                                                                                        ..\n",
       "            190    0          0            11.033317  False         125000000     122427712      7630         7630             na              0          0           0          0           7630               0                  7473              157            157                  1\n",
       "            201    0          0            11.036057  False         125000000     119822656      7630         7630             na              0          0           0          0           7630               0                  7314              316            316                  1\n",
       "            248    0          0            11.037790  False         125000000     124524864      7630         7630             na              0          0           0          0           7630               0                  7601              29             29                   1\n",
       "            280    0          0            11.033118  False         125000000     121395520      7630         7630             na              0          0           0          0           7630               0                  7410              220            220                  1\n",
       "            307    0          0            11.034266  False         125000000     124868928      7630         7630             na              0          0           0          0           7630               0                  7622              8              8                    1\n",
       "Name: count, Length: 95, dtype: int64"
      ]
     },
     "execution_count": 5,
     "metadata": {},
     "output_type": "execute_result"
    }
   ],
   "source": [
    "results.query('snmp_RcvbufErrors != 0').value_counts()"
   ]
  },
  {
   "cell_type": "markdown",
   "id": "c2db0954",
   "metadata": {},
   "source": [
    "#### Does the number of receiver socket InErrors equal the number of receiver buffer errors?"
   ]
  },
  {
   "cell_type": "code",
   "execution_count": 6,
   "id": "2875bdb3",
   "metadata": {},
   "outputs": [
    {
     "data": {
      "text/plain": [
       "Series([], Name: count, dtype: int64)"
      ]
     },
     "execution_count": 6,
     "metadata": {},
     "output_type": "execute_result"
    }
   ],
   "source": [
    "results.query('snmp_InErrors != snmp_RcvbufErrors').value_counts()"
   ]
  },
  {
   "cell_type": "markdown",
   "id": "a1f9711e",
   "metadata": {},
   "source": [
    "#### Do all unsuccessful trials match all trials with receiver buffer errors?"
   ]
  },
  {
   "cell_type": "code",
   "execution_count": 7,
   "id": "080b56fe",
   "metadata": {},
   "outputs": [
    {
     "data": {
      "text/plain": [
       "bitrate     trial  sender_rc  receiver_rc  Xfer_time  Xfer_success  in_file_size  out_file_size  dtgrms_sent  dtgrms_received  dtgrms_corrupt  tx_errors  tx_dropped  rx_errors  rx_dropped  snmp_OutDatagrams  snmp_SndbufErrors  snmp_InDatagrams  snmp_InErrors  snmp_RcvbufErrors\n",
       "1000000000  993    0          0            2.097323   False         125000000     83853312       7630         7630             na              0          0           0          0           7630               0                  5118              2512           2512                 1\n",
       "100000000   6      0          0            11.044010  False         125000000     120789312      7630         7630             na              0          0           0          0           7630               0                  7373              257            257                  1\n",
       "            34     0          0            11.034855  False         125000000     117610816      7630         7630             na              0          0           0          0           7630               0                  7179              451            451                  1\n",
       "            47     0          0            11.057923  False         125000000     118757696      7630         7630             na              0          0           0          0           7630               0                  7249              381            381                  1\n",
       "            74     0          0            11.031814  False         125000000     122132800      7630         7630             na              0          0           0          0           7630               0                  7455              175            175                  1\n",
       "                                                                                                                                                                                                                                                                                        ..\n",
       "            190    0          0            11.033317  False         125000000     122427712      7630         7630             na              0          0           0          0           7630               0                  7473              157            157                  1\n",
       "            201    0          0            11.036057  False         125000000     119822656      7630         7630             na              0          0           0          0           7630               0                  7314              316            316                  1\n",
       "            248    0          0            11.037790  False         125000000     124524864      7630         7630             na              0          0           0          0           7630               0                  7601              29             29                   1\n",
       "            280    0          0            11.033118  False         125000000     121395520      7630         7630             na              0          0           0          0           7630               0                  7410              220            220                  1\n",
       "            307    0          0            11.034266  False         125000000     124868928      7630         7630             na              0          0           0          0           7630               0                  7622              8              8                    1\n",
       "Name: count, Length: 95, dtype: int64"
      ]
     },
     "execution_count": 7,
     "metadata": {},
     "output_type": "execute_result"
    }
   ],
   "source": [
    "results.query('(snmp_RcvbufErrors != 0) & (Xfer_success == False)').value_counts()"
   ]
  },
  {
   "cell_type": "markdown",
   "id": "0612821c",
   "metadata": {},
   "source": [
    "#### And what about snmp_SndbufErrors?"
   ]
  },
  {
   "cell_type": "code",
   "execution_count": 8,
   "id": "cdf6d8e3",
   "metadata": {},
   "outputs": [
    {
     "data": {
      "text/plain": [
       "Series([], Name: count, dtype: int64)"
      ]
     },
     "execution_count": 8,
     "metadata": {},
     "output_type": "execute_result"
    }
   ],
   "source": [
    "results.query('(snmp_SndbufErrors != 0)').value_counts()\n",
    "#results.query('(snmp_SndbufErrors != 0) & (Xfer_success == True)').value_counts()"
   ]
  }
 ],
 "metadata": {
  "kernelspec": {
   "display_name": "Python 3 (ipykernel)",
   "language": "python",
   "name": "python3"
  }
 },
 "nbformat": 4,
 "nbformat_minor": 5
}
