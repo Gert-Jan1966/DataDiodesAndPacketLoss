{
 "cells": [
  {
   "cell_type": "markdown",
   "id": "326d8237",
   "metadata": {},
   "source": [
    "## Netcat - UDP.c - 4 MiB rcv sckt buffer"
   ]
  },
  {
   "cell_type": "code",
   "execution_count": 1,
   "id": "1564e92d",
   "metadata": {},
   "outputs": [
    {
     "name": "stdout",
     "output_type": "stream",
     "text": [
      "<class 'pandas.core.frame.DataFrame'>\n",
      "Index: 5000 entries, 0 to 999\n",
      "Data columns (total 20 columns):\n",
      " #   Column             Non-Null Count  Dtype  \n",
      "---  ------             --------------  -----  \n",
      " 0   bitrate            5000 non-null   int64  \n",
      " 1   trial              5000 non-null   int64  \n",
      " 2   sender_rc          5000 non-null   int64  \n",
      " 3   receiver_rc        5000 non-null   int64  \n",
      " 4   Xfer_time          5000 non-null   float64\n",
      " 5   Xfer_success       5000 non-null   bool   \n",
      " 6   in_file_size       5000 non-null   int64  \n",
      " 7   out_file_size      5000 non-null   int64  \n",
      " 8   dtgrms_sent        5000 non-null   object \n",
      " 9   dtgrms_received    5000 non-null   object \n",
      " 10  dtgrms_corrupt     5000 non-null   object \n",
      " 11  tx_errors          5000 non-null   int64  \n",
      " 12  tx_dropped         5000 non-null   int64  \n",
      " 13  rx_errors          5000 non-null   int64  \n",
      " 14  rx_dropped         5000 non-null   int64  \n",
      " 15  snmp_OutDatagrams  5000 non-null   int64  \n",
      " 16  snmp_SndbufErrors  5000 non-null   int64  \n",
      " 17  snmp_InDatagrams   5000 non-null   int64  \n",
      " 18  snmp_InErrors      5000 non-null   int64  \n",
      " 19  snmp_RcvbufErrors  5000 non-null   int64  \n",
      "dtypes: bool(1), float64(1), int64(15), object(3)\n",
      "memory usage: 786.1+ KB\n"
     ]
    }
   ],
   "source": [
    "import pandas as pd\n",
    "\n",
    "tests1 = pd.read_csv('https://raw.githubusercontent.com/Gert-Jan1966/DataDiodesAndPacketLoss/main/Testresults/recbuff-4mib/default/nc/testresults_nc_100000000.csv')\n",
    "tests2 = pd.read_csv('https://raw.githubusercontent.com/Gert-Jan1966/DataDiodesAndPacketLoss/main/Testresults/recbuff-4mib/default/nc/testresults_nc_250000000.csv')\n",
    "tests3 = pd.read_csv('https://raw.githubusercontent.com/Gert-Jan1966/DataDiodesAndPacketLoss/main/Testresults/recbuff-4mib/default/nc/testresults_nc_500000000.csv')\n",
    "tests4 = pd.read_csv('https://raw.githubusercontent.com/Gert-Jan1966/DataDiodesAndPacketLoss/main/Testresults/recbuff-4mib/default/nc/testresults_nc_750000000.csv')\n",
    "tests5 = pd.read_csv('https://raw.githubusercontent.com/Gert-Jan1966/DataDiodesAndPacketLoss/main/Testresults/recbuff-4mib/default/nc/testresults_nc_1000000000.csv')\n",
    "results = pd.concat([tests1, tests2, tests3, tests4, tests5])\n",
    "results.info()"
   ]
  },
  {
   "cell_type": "markdown",
   "id": "edaaa58e",
   "metadata": {},
   "source": [
    "#### Transfer success vs Transfer failure"
   ]
  },
  {
   "cell_type": "code",
   "execution_count": 2,
   "id": "39e14b3f",
   "metadata": {},
   "outputs": [
    {
     "data": {
      "text/plain": [
       "Xfer_success\n",
       "True     4695\n",
       "False     305\n",
       "Name: count, dtype: int64"
      ]
     },
     "execution_count": 2,
     "metadata": {},
     "output_type": "execute_result"
    }
   ],
   "source": [
    "results['Xfer_success'].value_counts()"
   ]
  },
  {
   "cell_type": "markdown",
   "id": "2ae08cd6",
   "metadata": {},
   "source": [
    "#### Did we lose Frames at the Link layer?\n",
    "In that case, at least one of 'tx_errors', 'tx_dropped', 'rx_errors' or 'rx_dropped' should not be zero....."
   ]
  },
  {
   "cell_type": "code",
   "execution_count": 3,
   "id": "38b2fca8",
   "metadata": {},
   "outputs": [
    {
     "data": {
      "text/plain": [
       "Series([], Name: count, dtype: int64)"
      ]
     },
     "execution_count": 3,
     "metadata": {},
     "output_type": "execute_result"
    }
   ],
   "source": [
    "results.query('(tx_errors != 0) | (tx_dropped != 0) | (rx_errors != 0) | (rx_dropped != 0)').value_counts()"
   ]
  },
  {
   "cell_type": "markdown",
   "id": "f2af4fd3",
   "metadata": {},
   "source": [
    "#### How many trials with receiver socket buffer errors? (lost Segments)"
   ]
  },
  {
   "cell_type": "code",
   "execution_count": 4,
   "id": "64567057",
   "metadata": {},
   "outputs": [
    {
     "data": {
      "text/plain": [
       "bitrate     trial  sender_rc  receiver_rc  Xfer_time  Xfer_success  in_file_size  out_file_size  dtgrms_sent  dtgrms_received  dtgrms_corrupt  tx_errors  tx_dropped  rx_errors  rx_dropped  snmp_OutDatagrams  snmp_SndbufErrors  snmp_InDatagrams  snmp_InErrors  snmp_RcvbufErrors\n",
       "1000000000  961    0          0            4.953022   False         125000000     92979200       na           na               na              0          0           0          0           7630               0                  5675              1955           1955                 1\n",
       "100000000   4      0          0            11.080354  False         125000000     93870400       na           na               na              0          0           0          0           7630               0                  5730              1900           1900                 1\n",
       "            5      0          0            13.042222  False         125000000     124010496      na           na               na              0          0           0          0           7630               0                  7569              61             61                   1\n",
       "            6      0          0            11.038447  False         125000000     92608832       na           na               na              0          0           0          0           7630               0                  5653              1977           1977                 1\n",
       "            7      0          0            11.057015  False         125000000     104896832      na           na               na              0          0           0          0           7630               0                  6403              1227           1227                 1\n",
       "                                                                                                                                                                                                                                                                                        ..\n",
       "            77     0          0            13.787938  False         125000000     118751232      na           na               na              0          0           0          0           7630               0                  7248              382            382                  1\n",
       "            78     0          0            11.037691  False         125000000     120330560      na           na               na              0          0           0          0           7630               0                  7345              285            285                  1\n",
       "            87     0          0            11.037465  False         125000000     107731264      na           na               na              0          0           0          0           7630               0                  6576              1054           1054                 1\n",
       "            91     0          0            11.034856  False         125000000     118266176      na           na               na              0          0           0          0           7630               0                  7219              411            411                  1\n",
       "            93     0          0            12.656389  False         125000000     118800384      na           na               na              0          0           0          0           7630               0                  7251              379            379                  1\n",
       "Name: count, Length: 305, dtype: int64"
      ]
     },
     "execution_count": 4,
     "metadata": {},
     "output_type": "execute_result"
    }
   ],
   "source": [
    "results.query('snmp_RcvbufErrors != 0').value_counts()"
   ]
  },
  {
   "cell_type": "markdown",
   "id": "a2ff660c",
   "metadata": {},
   "source": [
    "#### Does the number of receiver socket InErrors equal the number of receiver buffer errors?"
   ]
  },
  {
   "cell_type": "code",
   "execution_count": 5,
   "id": "2875bdb3",
   "metadata": {},
   "outputs": [
    {
     "data": {
      "text/plain": [
       "Series([], Name: count, dtype: int64)"
      ]
     },
     "execution_count": 5,
     "metadata": {},
     "output_type": "execute_result"
    }
   ],
   "source": [
    "results.query('snmp_InErrors != snmp_RcvbufErrors').value_counts()"
   ]
  },
  {
   "cell_type": "markdown",
   "id": "17af6647",
   "metadata": {},
   "source": [
    "#### Do all unsuccessful trials match all trials with receiver buffer errors?"
   ]
  },
  {
   "cell_type": "code",
   "execution_count": 6,
   "id": "f5cd3c1d",
   "metadata": {},
   "outputs": [
    {
     "data": {
      "text/plain": [
       "bitrate     trial  sender_rc  receiver_rc  Xfer_time  Xfer_success  in_file_size  out_file_size  dtgrms_sent  dtgrms_received  dtgrms_corrupt  tx_errors  tx_dropped  rx_errors  rx_dropped  snmp_OutDatagrams  snmp_SndbufErrors  snmp_InDatagrams  snmp_InErrors  snmp_RcvbufErrors\n",
       "1000000000  961    0          0            4.953022   False         125000000     92979200       na           na               na              0          0           0          0           7630               0                  5675              1955           1955                 1\n",
       "100000000   4      0          0            11.080354  False         125000000     93870400       na           na               na              0          0           0          0           7630               0                  5730              1900           1900                 1\n",
       "            5      0          0            13.042222  False         125000000     124010496      na           na               na              0          0           0          0           7630               0                  7569              61             61                   1\n",
       "            6      0          0            11.038447  False         125000000     92608832       na           na               na              0          0           0          0           7630               0                  5653              1977           1977                 1\n",
       "            7      0          0            11.057015  False         125000000     104896832      na           na               na              0          0           0          0           7630               0                  6403              1227           1227                 1\n",
       "                                                                                                                                                                                                                                                                                        ..\n",
       "            77     0          0            13.787938  False         125000000     118751232      na           na               na              0          0           0          0           7630               0                  7248              382            382                  1\n",
       "            78     0          0            11.037691  False         125000000     120330560      na           na               na              0          0           0          0           7630               0                  7345              285            285                  1\n",
       "            87     0          0            11.037465  False         125000000     107731264      na           na               na              0          0           0          0           7630               0                  6576              1054           1054                 1\n",
       "            91     0          0            11.034856  False         125000000     118266176      na           na               na              0          0           0          0           7630               0                  7219              411            411                  1\n",
       "            93     0          0            12.656389  False         125000000     118800384      na           na               na              0          0           0          0           7630               0                  7251              379            379                  1\n",
       "Name: count, Length: 305, dtype: int64"
      ]
     },
     "execution_count": 6,
     "metadata": {},
     "output_type": "execute_result"
    }
   ],
   "source": [
    "results.query('(snmp_RcvbufErrors != 0) & (Xfer_success == False)').value_counts()"
   ]
  },
  {
   "cell_type": "markdown",
   "id": "946e0098",
   "metadata": {},
   "source": [
    "#### And what about snmp_SndbufErrors?"
   ]
  },
  {
   "cell_type": "code",
   "execution_count": 7,
   "id": "561cbc94",
   "metadata": {},
   "outputs": [
    {
     "data": {
      "text/plain": [
       "Series([], Name: count, dtype: int64)"
      ]
     },
     "execution_count": 7,
     "metadata": {},
     "output_type": "execute_result"
    }
   ],
   "source": [
    "results.query('(snmp_SndbufErrors != 0)').value_counts()\n",
    "#results.query('(snmp_SndbufErrors != 0) & (Xfer_success == True)').value_counts()"
   ]
  }
 ],
 "metadata": {
  "kernelspec": {
   "display_name": "Python 3 (ipykernel)",
   "language": "python",
   "name": "python3"
  },
  "language_info": {
   "codemirror_mode": {
    "name": "ipython",
    "version": 3
   },
   "file_extension": ".py",
   "mimetype": "text/x-python",
   "name": "python",
   "nbconvert_exporter": "python",
   "pygments_lexer": "ipython3",
   "version": "3.12.3"
  }
 },
 "nbformat": 4,
 "nbformat_minor": 5
}
