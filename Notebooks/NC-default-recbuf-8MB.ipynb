{
 "cells": [
  {
   "cell_type": "markdown",
   "id": "326d8237",
   "metadata": {},
   "source": [
    "## Netcat results - UDP.c and 8 MB receiver socket buffer"
   ]
  },
  {
   "cell_type": "code",
   "execution_count": 20,
   "id": "1564e92d",
   "metadata": {},
   "outputs": [
    {
     "name": "stdout",
     "output_type": "stream",
     "text": [
      "<class 'pandas.core.frame.DataFrame'>\n",
      "Index: 5000 entries, 0 to 999\n",
      "Data columns (total 20 columns):\n",
      " #   Column             Non-Null Count  Dtype  \n",
      "---  ------             --------------  -----  \n",
      " 0   bitrate            5000 non-null   int64  \n",
      " 1   trial              5000 non-null   int64  \n",
      " 2   sender_rc          5000 non-null   int64  \n",
      " 3   receiver_rc        5000 non-null   int64  \n",
      " 4   Xfer_time          5000 non-null   float64\n",
      " 5   Xfer_success       5000 non-null   bool   \n",
      " 6   in_file_size       5000 non-null   int64  \n",
      " 7   out_file_size      5000 non-null   int64  \n",
      " 8   dtgrms_sent        5000 non-null   object \n",
      " 9   dtgrms_received    5000 non-null   object \n",
      " 10  dtgrms_corrupt     5000 non-null   object \n",
      " 11  tx_errors          5000 non-null   int64  \n",
      " 12  tx_dropped         5000 non-null   int64  \n",
      " 13  rx_errors          5000 non-null   int64  \n",
      " 14  rx_dropped         5000 non-null   int64  \n",
      " 15  snmp_OutDatagrams  5000 non-null   int64  \n",
      " 16  snmp_SndbufErrors  5000 non-null   int64  \n",
      " 17  snmp_InDatagrams   5000 non-null   int64  \n",
      " 18  snmp_InErrors      5000 non-null   int64  \n",
      " 19  snmp_RcvbufErrors  5000 non-null   int64  \n",
      "dtypes: bool(1), float64(1), int64(15), object(3)\n",
      "memory usage: 786.1+ KB\n"
     ]
    }
   ],
   "source": [
    "import pandas as pd\n",
    "\n",
    "tests1 = pd.read_csv('https://raw.githubusercontent.com/Gert-Jan1966/DataDiodesAndPacketLoss/main/Testresults/recbuff-8mb/default/nc/testresults_nc_100000000.csv')\n",
    "tests2 = pd.read_csv('https://raw.githubusercontent.com/Gert-Jan1966/DataDiodesAndPacketLoss/main/Testresults/recbuff-8mb/default/nc/testresults_nc_250000000.csv')\n",
    "tests3 = pd.read_csv('https://raw.githubusercontent.com/Gert-Jan1966/DataDiodesAndPacketLoss/main/Testresults/recbuff-8mb/default/nc/testresults_nc_500000000.csv')\n",
    "tests4 = pd.read_csv('https://raw.githubusercontent.com/Gert-Jan1966/DataDiodesAndPacketLoss/main/Testresults/recbuff-8mb/default/nc/testresults_nc_750000000.csv')\n",
    "tests5 = pd.read_csv('https://raw.githubusercontent.com/Gert-Jan1966/DataDiodesAndPacketLoss/main/Testresults/recbuff-8mb/default/nc/testresults_nc_1000000000.csv')\n",
    "results = pd.concat([tests1, tests2, tests3, tests4, tests5])\n",
    "results.info()"
   ]
  },
  {
   "cell_type": "markdown",
   "id": "edaaa58e",
   "metadata": {},
   "source": [
    "#### Transfer success vs Transfer failure"
   ]
  },
  {
   "cell_type": "code",
   "execution_count": 21,
   "id": "39e14b3f",
   "metadata": {},
   "outputs": [
    {
     "data": {
      "text/plain": [
       "Xfer_success\n",
       "True     4886\n",
       "False     114\n",
       "Name: count, dtype: int64"
      ]
     },
     "execution_count": 21,
     "metadata": {},
     "output_type": "execute_result"
    }
   ],
   "source": [
    "results['Xfer_success'].value_counts()"
   ]
  },
  {
   "cell_type": "markdown",
   "id": "2ae08cd6",
   "metadata": {},
   "source": [
    "#### Did we lose Frames at the Link layer?\n",
    "In that case, at least one of 'tx_errors', 'tx_dropped', 'rx_errors' or 'rx_dropped' should not be zero....."
   ]
  },
  {
   "cell_type": "code",
   "execution_count": 22,
   "id": "38b2fca8",
   "metadata": {},
   "outputs": [
    {
     "data": {
      "text/plain": [
       "Series([], Name: count, dtype: int64)"
      ]
     },
     "execution_count": 22,
     "metadata": {},
     "output_type": "execute_result"
    }
   ],
   "source": [
    "results.query('(tx_errors != 0) | (tx_dropped != 0) | (rx_errors != 0) | (rx_dropped != 0)').value_counts()"
   ]
  },
  {
   "cell_type": "markdown",
   "id": "f2af4fd3",
   "metadata": {},
   "source": [
    "#### How many trials with receiver socket buffer errors? (lost Segments)"
   ]
  },
  {
   "cell_type": "code",
   "execution_count": 23,
   "id": "64567057",
   "metadata": {},
   "outputs": [
    {
     "data": {
      "text/plain": [
       "bitrate     trial  sender_rc  receiver_rc  Xfer_time  Xfer_success  in_file_size  out_file_size  dtgrms_sent  dtgrms_received  dtgrms_corrupt  tx_errors  tx_dropped  rx_errors  rx_dropped  snmp_OutDatagrams  snmp_SndbufErrors  snmp_InDatagrams  snmp_InErrors  snmp_RcvbufErrors\n",
       "1000000000  982    0          0            2.067182   False         125000000     100440384      na           na               na              0          0           0          0           7630               0                  6131              1499           1499                 1\n",
       "100000000   13     0          0            11.026875  False         125000000     124049728      na           na               na              0          0           0          0           7630               0                  7572              58             58                   1\n",
       "750000000   650    0          0            2.358915   False         125000000     33577280       na           na               na              0          0           0          0           7630               0                  2050              5580           5580                 1\n",
       "            721    0          0            2.397158   False         125000000     123633664      na           na               na              0          0           0          0           7630               0                  7546              84             84                   1\n",
       "            762    0          0            2.362388   False         125000000     111532352      na           na               na              0          0           0          0           7630               0                  6808              822            822                  1\n",
       "                                                                                                                                                                                                                                                                                        ..\n",
       "100000000   174    0          0            11.036505  False         125000000     107092288      na           na               na              0          0           0          0           7630               0                  6537              1093           1093                 1\n",
       "            369    0          0            11.036351  False         125000000     106649920      na           na               na              0          0           0          0           7630               0                  6510              1120           1120                 1\n",
       "            370    0          0            11.024455  False         125000000     110057792      na           na               na              0          0           0          0           7630               0                  6718              912            912                  1\n",
       "            470    0          0            11.029984  False         125000000     119986496      na           na               na              0          0           0          0           7630               0                  7324              306            306                  1\n",
       "            482    0          0            11.041008  False         125000000     124950848      na           na               na              0          0           0          0           7630               0                  7627              3              3                    1\n",
       "Name: count, Length: 114, dtype: int64"
      ]
     },
     "execution_count": 23,
     "metadata": {},
     "output_type": "execute_result"
    }
   ],
   "source": [
    "results.query('snmp_RcvbufErrors != 0').value_counts()"
   ]
  },
  {
   "cell_type": "markdown",
   "id": "a2ff660c",
   "metadata": {},
   "source": [
    "#### Does the number of receiver socket InErrors equal the number of receiver buffer errors?"
   ]
  },
  {
   "cell_type": "code",
   "execution_count": 24,
   "id": "2875bdb3",
   "metadata": {},
   "outputs": [
    {
     "data": {
      "text/plain": [
       "Series([], Name: count, dtype: int64)"
      ]
     },
     "execution_count": 24,
     "metadata": {},
     "output_type": "execute_result"
    }
   ],
   "source": [
    "results.query('snmp_InErrors != snmp_RcvbufErrors').value_counts()"
   ]
  },
  {
   "cell_type": "markdown",
   "id": "17af6647",
   "metadata": {},
   "source": [
    "#### Do all unsuccessful trials match all trials with receiver buffer errors?"
   ]
  },
  {
   "cell_type": "code",
   "execution_count": 25,
   "id": "f5cd3c1d",
   "metadata": {},
   "outputs": [
    {
     "data": {
      "text/plain": [
       "bitrate     trial  sender_rc  receiver_rc  Xfer_time  Xfer_success  in_file_size  out_file_size  dtgrms_sent  dtgrms_received  dtgrms_corrupt  tx_errors  tx_dropped  rx_errors  rx_dropped  snmp_OutDatagrams  snmp_SndbufErrors  snmp_InDatagrams  snmp_InErrors  snmp_RcvbufErrors\n",
       "1000000000  982    0          0            2.067182   False         125000000     100440384      na           na               na              0          0           0          0           7630               0                  6131              1499           1499                 1\n",
       "100000000   13     0          0            11.026875  False         125000000     124049728      na           na               na              0          0           0          0           7630               0                  7572              58             58                   1\n",
       "750000000   650    0          0            2.358915   False         125000000     33577280       na           na               na              0          0           0          0           7630               0                  2050              5580           5580                 1\n",
       "            721    0          0            2.397158   False         125000000     123633664      na           na               na              0          0           0          0           7630               0                  7546              84             84                   1\n",
       "            762    0          0            2.362388   False         125000000     111532352      na           na               na              0          0           0          0           7630               0                  6808              822            822                  1\n",
       "                                                                                                                                                                                                                                                                                        ..\n",
       "100000000   174    0          0            11.036505  False         125000000     107092288      na           na               na              0          0           0          0           7630               0                  6537              1093           1093                 1\n",
       "            369    0          0            11.036351  False         125000000     106649920      na           na               na              0          0           0          0           7630               0                  6510              1120           1120                 1\n",
       "            370    0          0            11.024455  False         125000000     110057792      na           na               na              0          0           0          0           7630               0                  6718              912            912                  1\n",
       "            470    0          0            11.029984  False         125000000     119986496      na           na               na              0          0           0          0           7630               0                  7324              306            306                  1\n",
       "            482    0          0            11.041008  False         125000000     124950848      na           na               na              0          0           0          0           7630               0                  7627              3              3                    1\n",
       "Name: count, Length: 114, dtype: int64"
      ]
     },
     "execution_count": 25,
     "metadata": {},
     "output_type": "execute_result"
    }
   ],
   "source": [
    "results.query('(snmp_RcvbufErrors != 0) & (Xfer_success == False)').value_counts()"
   ]
  },
  {
   "cell_type": "markdown",
   "id": "946e0098",
   "metadata": {},
   "source": [
    "#### And what about snmp_SndbufErrors?"
   ]
  },
  {
   "cell_type": "code",
   "execution_count": 26,
   "id": "561cbc94",
   "metadata": {},
   "outputs": [
    {
     "data": {
      "text/plain": [
       "Series([], Name: count, dtype: int64)"
      ]
     },
     "execution_count": 26,
     "metadata": {},
     "output_type": "execute_result"
    }
   ],
   "source": [
    "results.query('(snmp_SndbufErrors != 0)').value_counts()\n",
    "#results.query('(snmp_SndbufErrors != 0) & (Xfer_success == True)').value_counts()"
   ]
  }
 ],
 "metadata": {
  "kernelspec": {
   "display_name": "Python 3 (ipykernel)",
   "language": "python",
   "name": "python3"
  },
  "language_info": {
   "codemirror_mode": {
    "name": "ipython",
    "version": 3
   },
   "file_extension": ".py",
   "mimetype": "text/x-python",
   "name": "python",
   "nbconvert_exporter": "python",
   "pygments_lexer": "ipython3",
   "version": "3.12.3"
  }
 },
 "nbformat": 4,
 "nbformat_minor": 5
}
