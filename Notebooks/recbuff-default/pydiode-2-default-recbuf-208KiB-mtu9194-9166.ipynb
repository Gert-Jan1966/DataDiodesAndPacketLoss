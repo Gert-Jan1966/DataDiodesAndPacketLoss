{
 "cells": [
  {
   "cell_type": "markdown",
   "id": "1564e92d",
   "metadata": {},
   "source": [
    "## pydiode (red=2) - UDP.c - 208 KiB rcv sckt buf - MTU 9194 - 9166"
   ]
  },
  {
   "cell_type": "code",
   "execution_count": 1,
   "id": "93b33b6d",
   "metadata": {},
   "outputs": [
    {
     "name": "stdout",
     "output_type": "stream",
     "text": [
      "<class 'pandas.core.frame.DataFrame'>\n",
      "Index: 3000 entries, 0 to 999\n",
      "Data columns (total 20 columns):\n",
      " #   Column             Non-Null Count  Dtype  \n",
      "---  ------             --------------  -----  \n",
      " 0   bitrate            3000 non-null   int64  \n",
      " 1   trial              3000 non-null   int64  \n",
      " 2   sender_rc          3000 non-null   int64  \n",
      " 3   receiver_rc        3000 non-null   int64  \n",
      " 4   Xfer_time          3000 non-null   float64\n",
      " 5   Xfer_success       3000 non-null   bool   \n",
      " 6   in_file_size       3000 non-null   int64  \n",
      " 7   out_file_size      3000 non-null   int64  \n",
      " 8   dtgrms_sent        3000 non-null   object \n",
      " 9   dtgrms_received    3000 non-null   object \n",
      " 10  dtgrms_corrupt     3000 non-null   object \n",
      " 11  tx_errors          3000 non-null   int64  \n",
      " 12  tx_dropped         3000 non-null   int64  \n",
      " 13  rx_errors          3000 non-null   int64  \n",
      " 14  rx_dropped         3000 non-null   int64  \n",
      " 15  snmp_OutDatagrams  3000 non-null   int64  \n",
      " 16  snmp_SndbufErrors  3000 non-null   int64  \n",
      " 17  snmp_InDatagrams   3000 non-null   int64  \n",
      " 18  snmp_InErrors      3000 non-null   int64  \n",
      " 19  snmp_RcvbufErrors  3000 non-null   int64  \n",
      "dtypes: bool(1), float64(1), int64(15), object(3)\n",
      "memory usage: 471.7+ KB\n"
     ]
    }
   ],
   "source": [
    "import pandas as pd\n",
    "\n",
    "tests1 = pd.read_csv('https://raw.githubusercontent.com/Gert-Jan1966/DataDiodesAndPacketLoss/main/Testresults/recbuff-default/default/pydiode-2-mtu9194-9166/testresults_pydiode_2_500000000.csv')\n",
    "tests2 = pd.read_csv('https://raw.githubusercontent.com/Gert-Jan1966/DataDiodesAndPacketLoss/main/Testresults/recbuff-default/default/pydiode-2-mtu9194-9166/testresults_pydiode_2_750000000.csv')\n",
    "tests3 = pd.read_csv('https://raw.githubusercontent.com/Gert-Jan1966/DataDiodesAndPacketLoss/main/Testresults/recbuff-default/default/pydiode-2-mtu9194-9166/testresults_pydiode_2_1000000000.csv')\n",
    "results = pd.concat([tests1, tests2, tests3])\n",
    "results.info()"
   ]
  },
  {
   "cell_type": "markdown",
   "id": "01357abb",
   "metadata": {},
   "source": [
    "#### Transfer success vs Transfer failure"
   ]
  },
  {
   "cell_type": "code",
   "execution_count": 2,
   "id": "383e6319",
   "metadata": {},
   "outputs": [
    {
     "data": {
      "text/plain": [
       "Xfer_success\n",
       "True    3000\n",
       "Name: count, dtype: int64"
      ]
     },
     "execution_count": 2,
     "metadata": {},
     "output_type": "execute_result"
    }
   ],
   "source": [
    "results['Xfer_success'].value_counts()"
   ]
  },
  {
   "cell_type": "markdown",
   "id": "b2bb4f24",
   "metadata": {},
   "source": [
    "#### Did we lose Frames at the Link layer?\n",
    "In that case, at least one of 'tx_errors', 'tx_dropped', 'rx_errors' or 'rx_dropped' should not be zero....."
   ]
  },
  {
   "cell_type": "code",
   "execution_count": 3,
   "id": "f5cd3c1d",
   "metadata": {},
   "outputs": [
    {
     "data": {
      "text/plain": [
       "Series([], Name: count, dtype: int64)"
      ]
     },
     "execution_count": 3,
     "metadata": {},
     "output_type": "execute_result"
    }
   ],
   "source": [
    "results.query('(tx_errors != 0) | (tx_dropped != 0) | (rx_errors != 0) | (rx_dropped != 0)').value_counts()"
   ]
  },
  {
   "cell_type": "markdown",
   "id": "cc96a5c4",
   "metadata": {},
   "source": [
    "#### How many trials with receiver socket buffer errors? (lost Segments)"
   ]
  },
  {
   "cell_type": "code",
   "execution_count": 4,
   "id": "64567057",
   "metadata": {},
   "outputs": [
    {
     "data": {
      "text/plain": [
       "bitrate     trial  sender_rc  receiver_rc  Xfer_time  Xfer_success  in_file_size  out_file_size  dtgrms_sent  dtgrms_received  dtgrms_corrupt  tx_errors  tx_dropped  rx_errors  rx_dropped  snmp_OutDatagrams  snmp_SndbufErrors  snmp_InDatagrams  snmp_InErrors  snmp_RcvbufErrors\n",
       "1000000000  999    0          0            2.207102   True          125000000     125000000      na           na               na              0          0           0          0           27294              1659               27287             4              4                    1\n",
       "500000000   562    0          0            4.308981   True          125000000     125000000      na           na               na              0          0           0          0           27294              0                  27289             2              2                    1\n",
       "            848    0          0            4.225844   True          125000000     125000000      na           na               na              0          0           0          0           27294              0                  27290             1              1                    1\n",
       "750000000   2      0          0            2.927601   True          125000000     125000000      na           na               na              0          0           0          0           27294              440                27289             2              2                    1\n",
       "            4      0          0            2.950869   True          125000000     125000000      na           na               na              0          0           0          0           27294              407                27290             1              1                    1\n",
       "                                                                                                                                                                                                                                                                                        ..\n",
       "            36     0          0            2.932492   True          125000000     125000000      na           na               na              0          0           0          0           27294              440                27290             1              1                    1\n",
       "            37     0          0            2.937112   True          125000000     125000000      na           na               na              0          0           0          0           27294              543                27289             2              2                    1\n",
       "            40     0          0            2.936988   True          125000000     125000000      na           na               na              0          0           0          0           27294              425                27289             2              2                    1\n",
       "            42     0          0            2.931183   True          125000000     125000000      na           na               na              0          0           0          0           27294              446                27288             3              3                    1\n",
       "            44     0          0            2.920432   True          125000000     125000000      na           na               na              0          0           0          0           27294              516                27290             1              1                    1\n",
       "Name: count, Length: 1037, dtype: int64"
      ]
     },
     "execution_count": 4,
     "metadata": {},
     "output_type": "execute_result"
    }
   ],
   "source": [
    "results.query('snmp_RcvbufErrors != 0').value_counts()"
   ]
  },
  {
   "cell_type": "markdown",
   "id": "c2db0954",
   "metadata": {},
   "source": [
    "#### Does the number of receiver socket InErrors equal the number of receiver buffer errors?"
   ]
  },
  {
   "cell_type": "code",
   "execution_count": 5,
   "id": "2875bdb3",
   "metadata": {},
   "outputs": [
    {
     "data": {
      "text/plain": [
       "Series([], Name: count, dtype: int64)"
      ]
     },
     "execution_count": 5,
     "metadata": {},
     "output_type": "execute_result"
    }
   ],
   "source": [
    "results.query('snmp_InErrors != snmp_RcvbufErrors').value_counts()"
   ]
  },
  {
   "cell_type": "markdown",
   "id": "a1f9711e",
   "metadata": {},
   "source": [
    "#### Do all unsuccessful trials match all trials with receiver buffer errors?"
   ]
  },
  {
   "cell_type": "code",
   "execution_count": 6,
   "id": "080b56fe",
   "metadata": {},
   "outputs": [
    {
     "data": {
      "text/plain": [
       "Series([], Name: count, dtype: int64)"
      ]
     },
     "execution_count": 6,
     "metadata": {},
     "output_type": "execute_result"
    }
   ],
   "source": [
    "results.query('(snmp_RcvbufErrors != 0) & (Xfer_success == False)').value_counts()"
   ]
  },
  {
   "cell_type": "markdown",
   "id": "b685d96f",
   "metadata": {},
   "source": [
    "#### And what about snmp_SndbufErrors?"
   ]
  },
  {
   "cell_type": "code",
   "execution_count": 7,
   "id": "3272b07e",
   "metadata": {},
   "outputs": [
    {
     "data": {
      "text/plain": [
       "bitrate     trial  sender_rc  receiver_rc  Xfer_time  Xfer_success  in_file_size  out_file_size  dtgrms_sent  dtgrms_received  dtgrms_corrupt  tx_errors  tx_dropped  rx_errors  rx_dropped  snmp_OutDatagrams  snmp_SndbufErrors  snmp_InDatagrams  snmp_InErrors  snmp_RcvbufErrors\n",
       "1000000000  960    0          0            2.199887   True          125000000     125000000      na           na               na              0          0           0          0           27294              1679               27290             1              1                    1\n",
       "            961    0          0            2.213521   True          125000000     125000000      na           na               na              0          0           0          0           27294              1599               27291             0              0                    1\n",
       "            962    0          0            2.196391   True          125000000     125000000      na           na               na              0          0           0          0           27294              1651               27287             4              4                    1\n",
       "            963    0          0            3.571860   True          125000000     125000000      na           na               na              0          0           0          0           27294              1695               27284             7              7                    1\n",
       "            964    0          0            2.208502   True          125000000     125000000      na           na               na              0          0           0          0           27294              1623               27291             0              0                    1\n",
       "                                                                                                                                                                                                                                                                                        ..\n",
       "500000000   391    0          0            4.278382   True          125000000     125000000      na           na               na              0          0           0          0           27294              1                  27291             0              0                    1\n",
       "            464    0          0            4.250829   True          125000000     125000000      na           na               na              0          0           0          0           27294              1                  27291             0              0                    1\n",
       "            480    0          0            4.220582   True          125000000     125000000      na           na               na              0          0           0          0           27294              1                  27291             0              0                    1\n",
       "            513    0          0            4.284904   True          125000000     125000000      na           na               na              0          0           0          0           27294              1                  27291             0              0                    1\n",
       "            516    0          0            4.249000   True          125000000     125000000      na           na               na              0          0           0          0           27294              1                  27291             0              0                    1\n",
       "Name: count, Length: 2016, dtype: int64"
      ]
     },
     "execution_count": 7,
     "metadata": {},
     "output_type": "execute_result"
    }
   ],
   "source": [
    "results.query('(snmp_SndbufErrors != 0)').value_counts()\n",
    "#results.query('(snmp_SndbufErrors != 0) & (Xfer_success == True)').value_counts()"
   ]
  },
  {
   "cell_type": "markdown",
   "id": "d277db81",
   "metadata": {},
   "source": [
    "#### Are there SndbufErrors without RcvbufErrors where the transfer failed?"
   ]
  },
  {
   "cell_type": "code",
   "execution_count": 8,
   "id": "a07f43c5",
   "metadata": {},
   "outputs": [
    {
     "data": {
      "text/plain": [
       "Series([], Name: count, dtype: int64)"
      ]
     },
     "execution_count": 8,
     "metadata": {},
     "output_type": "execute_result"
    }
   ],
   "source": [
    "results.query('(snmp_SndbufErrors != 0) & (snmp_RcvbufErrors == 0) & (Xfer_success == False)').value_counts()"
   ]
  }
 ],
 "metadata": {
  "kernelspec": {
   "display_name": "Python 3 (ipykernel)",
   "language": "python",
   "name": "python3"
  },
  "language_info": {
   "codemirror_mode": {
    "name": "ipython",
    "version": 3
   },
   "file_extension": ".py",
   "mimetype": "text/x-python",
   "name": "python",
   "nbconvert_exporter": "python",
   "pygments_lexer": "ipython3",
   "version": "3.12.3"
  }
 },
 "nbformat": 4,
 "nbformat_minor": 5
}
