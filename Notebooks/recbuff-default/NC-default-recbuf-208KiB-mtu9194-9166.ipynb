{
 "cells": [
  {
   "cell_type": "markdown",
   "id": "326d8237",
   "metadata": {},
   "source": [
    "## Netcat - UDP.c - 208 KiB rcv sckt buffer - MTU 9194 - 9166"
   ]
  },
  {
   "cell_type": "code",
   "execution_count": 1,
   "id": "1564e92d",
   "metadata": {},
   "outputs": [
    {
     "name": "stdout",
     "output_type": "stream",
     "text": [
      "<class 'pandas.core.frame.DataFrame'>\n",
      "Index: 4000 entries, 0 to 999\n",
      "Data columns (total 20 columns):\n",
      " #   Column             Non-Null Count  Dtype  \n",
      "---  ------             --------------  -----  \n",
      " 0   bitrate            4000 non-null   int64  \n",
      " 1   trial              4000 non-null   int64  \n",
      " 2   sender_rc          4000 non-null   int64  \n",
      " 3   receiver_rc        4000 non-null   int64  \n",
      " 4   Xfer_time          4000 non-null   float64\n",
      " 5   Xfer_success       4000 non-null   bool   \n",
      " 6   in_file_size       4000 non-null   int64  \n",
      " 7   out_file_size      4000 non-null   int64  \n",
      " 8   dtgrms_sent        4000 non-null   object \n",
      " 9   dtgrms_received    4000 non-null   object \n",
      " 10  dtgrms_corrupt     4000 non-null   object \n",
      " 11  tx_errors          4000 non-null   int64  \n",
      " 12  tx_dropped         4000 non-null   int64  \n",
      " 13  rx_errors          4000 non-null   int64  \n",
      " 14  rx_dropped         4000 non-null   int64  \n",
      " 15  snmp_OutDatagrams  4000 non-null   int64  \n",
      " 16  snmp_SndbufErrors  4000 non-null   int64  \n",
      " 17  snmp_InDatagrams   4000 non-null   int64  \n",
      " 18  snmp_InErrors      4000 non-null   int64  \n",
      " 19  snmp_RcvbufErrors  4000 non-null   int64  \n",
      "dtypes: bool(1), float64(1), int64(15), object(3)\n",
      "memory usage: 628.9+ KB\n"
     ]
    }
   ],
   "source": [
    "import pandas as pd\n",
    "\n",
    "tests1 = pd.read_csv('https://raw.githubusercontent.com/Gert-Jan1966/DataDiodesAndPacketLoss/main/Testresults/recbuff-default/default/nc-mtu9194-9166/testresults_nc_100000000.csv')\n",
    "tests2 = pd.read_csv('https://raw.githubusercontent.com/Gert-Jan1966/DataDiodesAndPacketLoss/main/Testresults/recbuff-default/default/nc-mtu9194-9166/testresults_nc_250000000.csv')\n",
    "tests3 = pd.read_csv('https://raw.githubusercontent.com/Gert-Jan1966/DataDiodesAndPacketLoss/main/Testresults/recbuff-default/default/nc-mtu9194-9166/testresults_nc_500000000.csv')\n",
    "tests4 = pd.read_csv('https://raw.githubusercontent.com/Gert-Jan1966/DataDiodesAndPacketLoss/main/Testresults/recbuff-default/default/nc-mtu9194-9166/testresults_nc_750000000.csv')\n",
    "results = pd.concat([tests1, tests2, tests3, tests4])\n",
    "results.info()"
   ]
  },
  {
   "cell_type": "markdown",
   "id": "edaaa58e",
   "metadata": {},
   "source": [
    "#### Transfer success vs Transfer failure"
   ]
  },
  {
   "cell_type": "code",
   "execution_count": 2,
   "id": "39e14b3f",
   "metadata": {},
   "outputs": [
    {
     "data": {
      "text/plain": [
       "Xfer_success\n",
       "True     2429\n",
       "False    1571\n",
       "Name: count, dtype: int64"
      ]
     },
     "execution_count": 2,
     "metadata": {},
     "output_type": "execute_result"
    }
   ],
   "source": [
    "results['Xfer_success'].value_counts()"
   ]
  },
  {
   "cell_type": "markdown",
   "id": "2ae08cd6",
   "metadata": {},
   "source": [
    "#### Did we lose Frames at the Link layer?\n",
    "In that case, at least one of 'tx_errors', 'tx_dropped', 'rx_errors' or 'rx_dropped' should not be zero....."
   ]
  },
  {
   "cell_type": "code",
   "execution_count": 3,
   "id": "38b2fca8",
   "metadata": {},
   "outputs": [
    {
     "data": {
      "text/plain": [
       "Series([], Name: count, dtype: int64)"
      ]
     },
     "execution_count": 3,
     "metadata": {},
     "output_type": "execute_result"
    }
   ],
   "source": [
    "results.query('(tx_errors != 0) | (tx_dropped != 0) | (rx_errors != 0) | (rx_dropped != 0)').value_counts()"
   ]
  },
  {
   "cell_type": "markdown",
   "id": "f2af4fd3",
   "metadata": {},
   "source": [
    "#### How many trials with receiver socket buffer errors? (lost Segments)"
   ]
  },
  {
   "cell_type": "code",
   "execution_count": 4,
   "id": "64567057",
   "metadata": {},
   "outputs": [
    {
     "data": {
      "text/plain": [
       "bitrate    trial  sender_rc  receiver_rc  Xfer_time  Xfer_success  in_file_size  out_file_size  dtgrms_sent  dtgrms_received  dtgrms_corrupt  tx_errors  tx_dropped  rx_errors  rx_dropped  snmp_OutDatagrams  snmp_SndbufErrors  snmp_InDatagrams  snmp_InErrors  snmp_RcvbufErrors\n",
       "750000000  993    0          0            2.370344   False         125000000     121547166      na           na               na              0          0           0          0           13638              0                  13263             375            375                  1\n",
       "100000000  4      0          0            11.037674  False         125000000     90744136       na           na               na              0          0           0          0           13638              0                  9902              3736           3736                 1\n",
       "           6      0          0            11.050473  False         125000000     120258656      na           na               na              0          0           0          0           13638              0                  13122             516            516                  1\n",
       "           7      0          0            11.041594  False         125000000     124575842      na           na               na              0          0           0          0           13638              0                  13593             45             45                   1\n",
       "           9      0          0            11.038604  False         125000000     114179650      na           na               na              0          0           0          0           13638              0                  12459             1179           1179                 1\n",
       "                                                                                                                                                                                                                                                                                       ..\n",
       "           164    0          0            11.035758  False         125000000     124410854      na           na               na              0          0           0          0           13638              0                  13575             63             63                   1\n",
       "           167    0          0            11.464879  False         125000000     124240660      na           na               na              0          0           0          0           13638              0                  13556             82             82                   1\n",
       "           169    0          0            11.047569  False         125000000     121391344      na           na               na              0          0           0          0           13638              0                  13246             392            392                  1\n",
       "           197    0          0            11.028822  False         125000000     124317246      na           na               na              0          0           0          0           13638              0                  13565             73             73                   1\n",
       "           201    0          0            11.030134  False         125000000     124493348      na           na               na              0          0           0          0           13638              0                  13584             54             54                   1\n",
       "Name: count, Length: 344, dtype: int64"
      ]
     },
     "execution_count": 4,
     "metadata": {},
     "output_type": "execute_result"
    }
   ],
   "source": [
    "results.query('snmp_RcvbufErrors != 0').value_counts()"
   ]
  },
  {
   "cell_type": "markdown",
   "id": "a2ff660c",
   "metadata": {},
   "source": [
    "#### Does the number of receiver socket InErrors equal the number of receiver buffer errors?"
   ]
  },
  {
   "cell_type": "code",
   "execution_count": 5,
   "id": "2875bdb3",
   "metadata": {},
   "outputs": [
    {
     "data": {
      "text/plain": [
       "Series([], Name: count, dtype: int64)"
      ]
     },
     "execution_count": 5,
     "metadata": {},
     "output_type": "execute_result"
    }
   ],
   "source": [
    "results.query('snmp_InErrors != snmp_RcvbufErrors').value_counts()"
   ]
  },
  {
   "cell_type": "markdown",
   "id": "17af6647",
   "metadata": {},
   "source": [
    "#### Do all unsuccessful trials match all trials with receiver buffer errors?"
   ]
  },
  {
   "cell_type": "code",
   "execution_count": 6,
   "id": "f5cd3c1d",
   "metadata": {},
   "outputs": [
    {
     "data": {
      "text/plain": [
       "bitrate    trial  sender_rc  receiver_rc  Xfer_time  Xfer_success  in_file_size  out_file_size  dtgrms_sent  dtgrms_received  dtgrms_corrupt  tx_errors  tx_dropped  rx_errors  rx_dropped  snmp_OutDatagrams  snmp_SndbufErrors  snmp_InDatagrams  snmp_InErrors  snmp_RcvbufErrors\n",
       "750000000  993    0          0            2.370344   False         125000000     121547166      na           na               na              0          0           0          0           13638              0                  13263             375            375                  1\n",
       "100000000  4      0          0            11.037674  False         125000000     90744136       na           na               na              0          0           0          0           13638              0                  9902              3736           3736                 1\n",
       "           6      0          0            11.050473  False         125000000     120258656      na           na               na              0          0           0          0           13638              0                  13122             516            516                  1\n",
       "           7      0          0            11.041594  False         125000000     124575842      na           na               na              0          0           0          0           13638              0                  13593             45             45                   1\n",
       "           9      0          0            11.038604  False         125000000     114179650      na           na               na              0          0           0          0           13638              0                  12459             1179           1179                 1\n",
       "                                                                                                                                                                                                                                                                                       ..\n",
       "           164    0          0            11.035758  False         125000000     124410854      na           na               na              0          0           0          0           13638              0                  13575             63             63                   1\n",
       "           167    0          0            11.464879  False         125000000     124240660      na           na               na              0          0           0          0           13638              0                  13556             82             82                   1\n",
       "           169    0          0            11.047569  False         125000000     121391344      na           na               na              0          0           0          0           13638              0                  13246             392            392                  1\n",
       "           197    0          0            11.028822  False         125000000     124317246      na           na               na              0          0           0          0           13638              0                  13565             73             73                   1\n",
       "           201    0          0            11.030134  False         125000000     124493348      na           na               na              0          0           0          0           13638              0                  13584             54             54                   1\n",
       "Name: count, Length: 344, dtype: int64"
      ]
     },
     "execution_count": 6,
     "metadata": {},
     "output_type": "execute_result"
    }
   ],
   "source": [
    "results.query('(snmp_RcvbufErrors != 0) & (Xfer_success == False)').value_counts()"
   ]
  },
  {
   "cell_type": "markdown",
   "id": "c3e2815f",
   "metadata": {},
   "source": [
    "#### And what about snmp_SndbufErrors?"
   ]
  },
  {
   "cell_type": "code",
   "execution_count": 7,
   "id": "d946cdfd",
   "metadata": {},
   "outputs": [
    {
     "data": {
      "text/plain": [
       "Series([], Name: count, dtype: int64)"
      ]
     },
     "execution_count": 7,
     "metadata": {},
     "output_type": "execute_result"
    }
   ],
   "source": [
    "results.query('(snmp_SndbufErrors != 0)').value_counts()\n",
    "#results.query('(snmp_SndbufErrors != 0) & (Xfer_success == True)').value_counts()"
   ]
  }
 ],
 "metadata": {
  "kernelspec": {
   "display_name": "Python 3 (ipykernel)",
   "language": "python",
   "name": "python3"
  },
  "language_info": {
   "codemirror_mode": {
    "name": "ipython",
    "version": 3
   },
   "file_extension": ".py",
   "mimetype": "text/x-python",
   "name": "python",
   "nbconvert_exporter": "python",
   "pygments_lexer": "ipython3",
   "version": "3.12.3"
  }
 },
 "nbformat": 4,
 "nbformat_minor": 5
}
