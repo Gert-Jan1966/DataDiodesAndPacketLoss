{
 "cells": [
  {
   "cell_type": "markdown",
   "id": "1564e92d",
   "metadata": {},
   "source": [
    "## Netcat - dd_udp.c - 208 KiB rcv sckt buf - MTU 9194 - 9166"
   ]
  },
  {
   "cell_type": "code",
   "execution_count": 10,
   "id": "93b33b6d",
   "metadata": {},
   "outputs": [
    {
     "name": "stdout",
     "output_type": "stream",
     "text": [
      "<class 'pandas.core.frame.DataFrame'>\n",
      "Index: 4000 entries, 0 to 999\n",
      "Data columns (total 20 columns):\n",
      " #   Column             Non-Null Count  Dtype  \n",
      "---  ------             --------------  -----  \n",
      " 0   bitrate            4000 non-null   int64  \n",
      " 1   trial              4000 non-null   int64  \n",
      " 2   sender_rc          4000 non-null   int64  \n",
      " 3   receiver_rc        4000 non-null   int64  \n",
      " 4   Xfer_time          4000 non-null   float64\n",
      " 5   Xfer_success       4000 non-null   bool   \n",
      " 6   in_file_size       4000 non-null   int64  \n",
      " 7   out_file_size      4000 non-null   int64  \n",
      " 8   dtgrms_sent        4000 non-null   int64  \n",
      " 9   dtgrms_received    4000 non-null   int64  \n",
      " 10  dtgrms_corrupt     4000 non-null   object \n",
      " 11  tx_errors          4000 non-null   int64  \n",
      " 12  tx_dropped         4000 non-null   int64  \n",
      " 13  rx_errors          4000 non-null   int64  \n",
      " 14  rx_dropped         4000 non-null   int64  \n",
      " 15  snmp_OutDatagrams  4000 non-null   int64  \n",
      " 16  snmp_SndbufErrors  4000 non-null   int64  \n",
      " 17  snmp_InDatagrams   4000 non-null   int64  \n",
      " 18  snmp_InErrors      4000 non-null   int64  \n",
      " 19  snmp_RcvbufErrors  4000 non-null   int64  \n",
      "dtypes: bool(1), float64(1), int64(17), object(1)\n",
      "memory usage: 628.9+ KB\n"
     ]
    }
   ],
   "source": [
    "import pandas as pd\n",
    "\n",
    "tests1 = pd.read_csv('https://raw.githubusercontent.com/Gert-Jan1966/DataDiodesAndPacketLoss/main/Testresults/recbuff-default/dd_udp.c/nc-mtu9194-9166/testresults_nc_100000000.csv')\n",
    "tests2 = pd.read_csv('https://raw.githubusercontent.com/Gert-Jan1966/DataDiodesAndPacketLoss/main/Testresults/recbuff-default/dd_udp.c/nc-mtu9194-9166/testresults_nc_250000000.csv')\n",
    "tests3 = pd.read_csv('https://raw.githubusercontent.com/Gert-Jan1966/DataDiodesAndPacketLoss/main/Testresults/recbuff-default/dd_udp.c/nc-mtu9194-9166/testresults_nc_500000000.csv')\n",
    "tests4 = pd.read_csv('https://raw.githubusercontent.com/Gert-Jan1966/DataDiodesAndPacketLoss/main/Testresults/recbuff-default/dd_udp.c/nc-mtu9194-9166/testresults_nc_750000000.csv')\n",
    "results = pd.concat([tests1, tests2, tests3, tests4])\n",
    "results.info()"
   ]
  },
  {
   "cell_type": "markdown",
   "id": "01357abb",
   "metadata": {},
   "source": [
    "#### Transfer success vs Transfer failure"
   ]
  },
  {
   "cell_type": "code",
   "execution_count": 11,
   "id": "383e6319",
   "metadata": {},
   "outputs": [
    {
     "data": {
      "text/plain": [
       "Xfer_success\n",
       "True     2457\n",
       "False    1543\n",
       "Name: count, dtype: int64"
      ]
     },
     "execution_count": 11,
     "metadata": {},
     "output_type": "execute_result"
    }
   ],
   "source": [
    "results['Xfer_success'].value_counts()"
   ]
  },
  {
   "cell_type": "markdown",
   "id": "b2bb4f24",
   "metadata": {},
   "source": [
    "#### Did we lose Frames at the Link layer?\n",
    "In that case, at least one of 'tx_errors', 'tx_dropped', 'rx_errors' or 'rx_dropped' should not be zero....."
   ]
  },
  {
   "cell_type": "code",
   "execution_count": 12,
   "id": "f5cd3c1d",
   "metadata": {},
   "outputs": [
    {
     "data": {
      "text/plain": [
       "Series([], Name: count, dtype: int64)"
      ]
     },
     "execution_count": 12,
     "metadata": {},
     "output_type": "execute_result"
    }
   ],
   "source": [
    "results.query('(tx_errors != 0) | (tx_dropped != 0) | (rx_errors != 0) | (rx_dropped != 0)').value_counts()"
   ]
  },
  {
   "cell_type": "markdown",
   "id": "ccbedb08",
   "metadata": {},
   "source": [
    "#### Did we lose UDP Datagrams at the Transport layer? (needs dd_udp.c module)"
   ]
  },
  {
   "cell_type": "code",
   "execution_count": 13,
   "id": "5e337a69",
   "metadata": {},
   "outputs": [
    {
     "data": {
      "text/plain": [
       "Series([], Name: count, dtype: int64)"
      ]
     },
     "execution_count": 13,
     "metadata": {},
     "output_type": "execute_result"
    }
   ],
   "source": [
    "results.query('dtgrms_sent != dtgrms_received').value_counts()"
   ]
  },
  {
   "cell_type": "markdown",
   "id": "cc96a5c4",
   "metadata": {},
   "source": [
    "#### How many trials with receiver socket buffer errors? (lost Segments)"
   ]
  },
  {
   "cell_type": "code",
   "execution_count": 14,
   "id": "64567057",
   "metadata": {},
   "outputs": [
    {
     "data": {
      "text/plain": [
       "bitrate    trial  sender_rc  receiver_rc  Xfer_time  Xfer_success  in_file_size  out_file_size  dtgrms_sent  dtgrms_received  dtgrms_corrupt  tx_errors  tx_dropped  rx_errors  rx_dropped  snmp_OutDatagrams  snmp_SndbufErrors  snmp_InDatagrams  snmp_InErrors  snmp_RcvbufErrors\n",
       "750000000  999    0          0            2.363362   False         125000000     124791930      13638        13638            na              0          0           0          0           13638              0                  13617             21             21                   1\n",
       "100000000  27     0          0            11.038496  False         125000000     124933316      13638        13638            na              0          0           0          0           13638              0                  13632             6              6                    1\n",
       "           29     0          0            11.030178  False         125000000     123693958      13638        13638            na              0          0           0          0           13638              0                  13497             141            141                  1\n",
       "           31     0          0            11.036168  False         125000000     118608776      13638        13638            na              0          0           0          0           13638              0                  12942             696            696                  1\n",
       "           37     0          0            11.030230  False         125000000     113649970      13638        13638            na              0          0           0          0           13638              0                  12401             1237           1237                 1\n",
       "                                                                                                                                                                                                                                                                                       ..\n",
       "           70     0          0            11.037585  False         125000000     113877172      13638        13638            na              0          0           0          0           13638              0                  12426             1212           1212                 1\n",
       "           89     0          0            11.039883  False         125000000     121541896      13638        13638            na              0          0           0          0           13638              0                  13262             376            376                  1\n",
       "           98     0          0            11.040699  False         125000000     115125696      13638        13638            na              0          0           0          0           13638              0                  12562             1076           1076                 1\n",
       "           140    0          0            11.033175  False         125000000     124958866      13638        13638            na              0          0           0          0           13638              0                  13635             3              3                    1\n",
       "           141    0          0            11.048518  False         125000000     124647222      13638        13638            na              0          0           0          0           13638              0                  13601             37             37                   1\n",
       "Name: count, Length: 246, dtype: int64"
      ]
     },
     "execution_count": 14,
     "metadata": {},
     "output_type": "execute_result"
    }
   ],
   "source": [
    "results.query('snmp_RcvbufErrors != 0').value_counts()"
   ]
  },
  {
   "cell_type": "markdown",
   "id": "c2db0954",
   "metadata": {},
   "source": [
    "#### Does the number of receiver socket InErrors equal the number of receiver buffer errors?"
   ]
  },
  {
   "cell_type": "code",
   "execution_count": 15,
   "id": "2875bdb3",
   "metadata": {},
   "outputs": [
    {
     "data": {
      "text/plain": [
       "Series([], Name: count, dtype: int64)"
      ]
     },
     "execution_count": 15,
     "metadata": {},
     "output_type": "execute_result"
    }
   ],
   "source": [
    "results.query('snmp_InErrors != snmp_RcvbufErrors').value_counts()"
   ]
  },
  {
   "cell_type": "markdown",
   "id": "a1f9711e",
   "metadata": {},
   "source": [
    "#### Do all unsuccessful trials match all trials with receiver buffer errors?"
   ]
  },
  {
   "cell_type": "code",
   "execution_count": 16,
   "id": "080b56fe",
   "metadata": {},
   "outputs": [
    {
     "data": {
      "text/plain": [
       "bitrate    trial  sender_rc  receiver_rc  Xfer_time  Xfer_success  in_file_size  out_file_size  dtgrms_sent  dtgrms_received  dtgrms_corrupt  tx_errors  tx_dropped  rx_errors  rx_dropped  snmp_OutDatagrams  snmp_SndbufErrors  snmp_InDatagrams  snmp_InErrors  snmp_RcvbufErrors\n",
       "750000000  999    0          0            2.363362   False         125000000     124791930      13638        13638            na              0          0           0          0           13638              0                  13617             21             21                   1\n",
       "100000000  27     0          0            11.038496  False         125000000     124933316      13638        13638            na              0          0           0          0           13638              0                  13632             6              6                    1\n",
       "           29     0          0            11.030178  False         125000000     123693958      13638        13638            na              0          0           0          0           13638              0                  13497             141            141                  1\n",
       "           31     0          0            11.036168  False         125000000     118608776      13638        13638            na              0          0           0          0           13638              0                  12942             696            696                  1\n",
       "           37     0          0            11.030230  False         125000000     113649970      13638        13638            na              0          0           0          0           13638              0                  12401             1237           1237                 1\n",
       "                                                                                                                                                                                                                                                                                       ..\n",
       "           70     0          0            11.037585  False         125000000     113877172      13638        13638            na              0          0           0          0           13638              0                  12426             1212           1212                 1\n",
       "           89     0          0            11.039883  False         125000000     121541896      13638        13638            na              0          0           0          0           13638              0                  13262             376            376                  1\n",
       "           98     0          0            11.040699  False         125000000     115125696      13638        13638            na              0          0           0          0           13638              0                  12562             1076           1076                 1\n",
       "           140    0          0            11.033175  False         125000000     124958866      13638        13638            na              0          0           0          0           13638              0                  13635             3              3                    1\n",
       "           141    0          0            11.048518  False         125000000     124647222      13638        13638            na              0          0           0          0           13638              0                  13601             37             37                   1\n",
       "Name: count, Length: 246, dtype: int64"
      ]
     },
     "execution_count": 16,
     "metadata": {},
     "output_type": "execute_result"
    }
   ],
   "source": [
    "results.query('(snmp_RcvbufErrors != 0) & (Xfer_success == False)').value_counts()"
   ]
  },
  {
   "cell_type": "markdown",
   "id": "295aabf5",
   "metadata": {},
   "source": [
    "#### And what about snmp_SndbufErrors?"
   ]
  },
  {
   "cell_type": "code",
   "execution_count": 17,
   "id": "9710ff0e",
   "metadata": {},
   "outputs": [
    {
     "data": {
      "text/plain": [
       "Series([], Name: count, dtype: int64)"
      ]
     },
     "execution_count": 17,
     "metadata": {},
     "output_type": "execute_result"
    }
   ],
   "source": [
    "results.query('(snmp_SndbufErrors != 0)').value_counts()\n",
    "#results.query('(snmp_SndbufErrors != 0) & (Xfer_success == True)').value_counts()"
   ]
  }
 ],
 "metadata": {
  "kernelspec": {
   "display_name": "Python 3 (ipykernel)",
   "language": "python",
   "name": "python3"
  },
  "language_info": {
   "codemirror_mode": {
    "name": "ipython",
    "version": 3
   },
   "file_extension": ".py",
   "mimetype": "text/x-python",
   "name": "python",
   "nbconvert_exporter": "python",
   "pygments_lexer": "ipython3",
   "version": "3.12.3"
  }
 },
 "nbformat": 4,
 "nbformat_minor": 5
}
