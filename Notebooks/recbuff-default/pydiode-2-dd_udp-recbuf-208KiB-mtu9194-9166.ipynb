{
 "cells": [
  {
   "cell_type": "markdown",
   "id": "1564e92d",
   "metadata": {},
   "source": [
    "## pydiode (red=2) - dd_udp.c - 208 KiB rcv sckt buf - MTU 9194 - 9166"
   ]
  },
  {
   "cell_type": "code",
   "execution_count": 5,
   "id": "93b33b6d",
   "metadata": {},
   "outputs": [
    {
     "name": "stdout",
     "output_type": "stream",
     "text": [
      "<class 'pandas.core.frame.DataFrame'>\n",
      "Index: 3000 entries, 0 to 999\n",
      "Data columns (total 20 columns):\n",
      " #   Column             Non-Null Count  Dtype  \n",
      "---  ------             --------------  -----  \n",
      " 0   bitrate            3000 non-null   int64  \n",
      " 1   trial              3000 non-null   int64  \n",
      " 2   sender_rc          3000 non-null   int64  \n",
      " 3   receiver_rc        3000 non-null   int64  \n",
      " 4   Xfer_time          3000 non-null   float64\n",
      " 5   Xfer_success       3000 non-null   bool   \n",
      " 6   in_file_size       3000 non-null   int64  \n",
      " 7   out_file_size      3000 non-null   int64  \n",
      " 8   dtgrms_sent        3000 non-null   int64  \n",
      " 9   dtgrms_received    3000 non-null   int64  \n",
      " 10  dtgrms_corrupt     3000 non-null   object \n",
      " 11  tx_errors          3000 non-null   int64  \n",
      " 12  tx_dropped         3000 non-null   int64  \n",
      " 13  rx_errors          3000 non-null   int64  \n",
      " 14  rx_dropped         3000 non-null   int64  \n",
      " 15  snmp_OutDatagrams  3000 non-null   int64  \n",
      " 16  snmp_SndbufErrors  3000 non-null   int64  \n",
      " 17  snmp_InDatagrams   3000 non-null   int64  \n",
      " 18  snmp_InErrors      3000 non-null   int64  \n",
      " 19  snmp_RcvbufErrors  3000 non-null   int64  \n",
      "dtypes: bool(1), float64(1), int64(17), object(1)\n",
      "memory usage: 471.7+ KB\n"
     ]
    }
   ],
   "source": [
    "import pandas as pd\n",
    "\n",
    "tests1 = pd.read_csv('https://raw.githubusercontent.com/Gert-Jan1966/DataDiodesAndPacketLoss/main/Testresults/recbuff-default/dd_udp.c/pydiode-2-mtu9194-9166/testresults_pydiode_2_500000000.csv')\n",
    "tests2 = pd.read_csv('https://raw.githubusercontent.com/Gert-Jan1966/DataDiodesAndPacketLoss/main/Testresults/recbuff-default/dd_udp.c/pydiode-2-mtu9194-9166/testresults_pydiode_2_750000000.csv')\n",
    "tests3 = pd.read_csv('https://raw.githubusercontent.com/Gert-Jan1966/DataDiodesAndPacketLoss/main/Testresults/recbuff-default/dd_udp.c/pydiode-2-mtu9194-9166/testresults_pydiode_2_1000000000.csv')\n",
    "results = pd.concat([tests1, tests2, tests3])\n",
    "results.info()"
   ]
  },
  {
   "cell_type": "markdown",
   "id": "01357abb",
   "metadata": {},
   "source": [
    "#### Transfer success vs Transfer failure"
   ]
  },
  {
   "cell_type": "code",
   "execution_count": 6,
   "id": "383e6319",
   "metadata": {},
   "outputs": [
    {
     "data": {
      "text/plain": [
       "Xfer_success\n",
       "True    3000\n",
       "Name: count, dtype: int64"
      ]
     },
     "execution_count": 6,
     "metadata": {},
     "output_type": "execute_result"
    }
   ],
   "source": [
    "results['Xfer_success'].value_counts()"
   ]
  },
  {
   "cell_type": "markdown",
   "id": "b2bb4f24",
   "metadata": {},
   "source": [
    "#### Did we lose Frames at the Link layer?\n",
    "In that case, at least one of 'tx_errors', 'tx_dropped', 'rx_errors' or 'rx_dropped' should not be zero....."
   ]
  },
  {
   "cell_type": "code",
   "execution_count": 7,
   "id": "f5cd3c1d",
   "metadata": {},
   "outputs": [
    {
     "data": {
      "text/plain": [
       "Series([], Name: count, dtype: int64)"
      ]
     },
     "execution_count": 7,
     "metadata": {},
     "output_type": "execute_result"
    }
   ],
   "source": [
    "results.query('(tx_errors != 0) | (tx_dropped != 0) | (rx_errors != 0) | (rx_dropped != 0)').value_counts()"
   ]
  },
  {
   "cell_type": "markdown",
   "id": "ccbedb08",
   "metadata": {},
   "source": [
    "#### Did we lose UDP Datagrams at the Transport layer? (needs dd_udp.c module)"
   ]
  },
  {
   "cell_type": "code",
   "execution_count": 8,
   "id": "5e337a69",
   "metadata": {},
   "outputs": [
    {
     "data": {
      "text/plain": [
       "Series([], Name: count, dtype: int64)"
      ]
     },
     "execution_count": 8,
     "metadata": {},
     "output_type": "execute_result"
    }
   ],
   "source": [
    "results.query('dtgrms_sent != dtgrms_received').value_counts()"
   ]
  },
  {
   "cell_type": "markdown",
   "id": "cc96a5c4",
   "metadata": {},
   "source": [
    "#### How many trials with receiver socket buffer errors? (lost Segments)"
   ]
  },
  {
   "cell_type": "code",
   "execution_count": 9,
   "id": "64567057",
   "metadata": {},
   "outputs": [
    {
     "data": {
      "text/plain": [
       "bitrate     trial  sender_rc  receiver_rc  Xfer_time  Xfer_success  in_file_size  out_file_size  dtgrms_sent  dtgrms_received  dtgrms_corrupt  tx_errors  tx_dropped  rx_errors  rx_dropped  snmp_OutDatagrams  snmp_SndbufErrors  snmp_InDatagrams  snmp_InErrors  snmp_RcvbufErrors\n",
       "1000000000  997    0          0            2.196701   True          125000000     125000000      27294        27294            na              0          0           0          0           27294              1687               27288             3              3                    1\n",
       "500000000   50     0          0            4.278340   True          125000000     125000000      27294        27294            na              0          0           0          0           27294              0                  27290             1              1                    1\n",
       "            145    0          0            4.220157   True          125000000     125000000      27294        27294            na              0          0           0          0           27294              1                  27288             3              3                    1\n",
       "            553    0          0            4.259449   True          125000000     125000000      27294        27294            na              0          0           0          0           27294              2                  27285             6              6                    1\n",
       "            990    0          0            4.251585   True          125000000     125000000      27294        27294            na              0          0           0          0           27294              0                  27288             3              3                    1\n",
       "                                                                                                                                                                                                                                                                                        ..\n",
       "750000000   106    0          0            2.920015   True          125000000     125000000      27294        27294            na              0          0           0          0           27294              456                27290             1              1                    1\n",
       "            110    0          0            2.965885   True          125000000     125000000      27294        27294            na              0          0           0          0           27294              384                27287             4              4                    1\n",
       "            111    0          0            2.918638   True          125000000     125000000      27294        27294            na              0          0           0          0           27294              460                27285             6              6                    1\n",
       "            113    0          0            2.938913   True          125000000     125000000      27294        27294            na              0          0           0          0           27294              435                27290             1              1                    1\n",
       "            114    0          0            2.922615   True          125000000     125000000      27294        27294            na              0          0           0          0           27294              463                27290             1              1                    1\n",
       "Name: count, Length: 1051, dtype: int64"
      ]
     },
     "execution_count": 9,
     "metadata": {},
     "output_type": "execute_result"
    }
   ],
   "source": [
    "results.query('snmp_RcvbufErrors != 0').value_counts()"
   ]
  },
  {
   "cell_type": "markdown",
   "id": "c2db0954",
   "metadata": {},
   "source": [
    "#### Does the number of receiver socket InErrors equal the number of receiver buffer errors?"
   ]
  },
  {
   "cell_type": "code",
   "execution_count": 10,
   "id": "2875bdb3",
   "metadata": {},
   "outputs": [
    {
     "data": {
      "text/plain": [
       "Series([], Name: count, dtype: int64)"
      ]
     },
     "execution_count": 10,
     "metadata": {},
     "output_type": "execute_result"
    }
   ],
   "source": [
    "results.query('snmp_InErrors != snmp_RcvbufErrors').value_counts()"
   ]
  },
  {
   "cell_type": "markdown",
   "id": "a1f9711e",
   "metadata": {},
   "source": [
    "#### Do all unsuccessful trials match all trials with receiver buffer errors?"
   ]
  },
  {
   "cell_type": "code",
   "execution_count": 11,
   "id": "080b56fe",
   "metadata": {},
   "outputs": [
    {
     "data": {
      "text/plain": [
       "Series([], Name: count, dtype: int64)"
      ]
     },
     "execution_count": 11,
     "metadata": {},
     "output_type": "execute_result"
    }
   ],
   "source": [
    "results.query('(snmp_RcvbufErrors != 0) & (Xfer_success == False)').value_counts()"
   ]
  },
  {
   "cell_type": "markdown",
   "id": "b9cbbef9",
   "metadata": {},
   "source": [
    "#### And what about snmp_SndbufErrors?"
   ]
  },
  {
   "cell_type": "code",
   "execution_count": 12,
   "id": "4e829b54",
   "metadata": {},
   "outputs": [
    {
     "data": {
      "text/plain": [
       "bitrate     trial  sender_rc  receiver_rc  Xfer_time  Xfer_success  in_file_size  out_file_size  dtgrms_sent  dtgrms_received  dtgrms_corrupt  tx_errors  tx_dropped  rx_errors  rx_dropped  snmp_OutDatagrams  snmp_SndbufErrors  snmp_InDatagrams  snmp_InErrors  snmp_RcvbufErrors\n",
       "1000000000  999    0          0            2.209383   True          125000000     125000000      27294        27294            na              0          0           0          0           27294              1623               27291             0              0                    1\n",
       "500000000   7      0          0            4.246237   True          125000000     125000000      27294        27294            na              0          0           0          0           27294              1                  27291             0              0                    1\n",
       "            36     0          0            4.233350   True          125000000     125000000      27294        27294            na              0          0           0          0           27294              1                  27291             0              0                    1\n",
       "            55     0          0            4.256540   True          125000000     125000000      27294        27294            na              0          0           0          0           27294              2                  27291             0              0                    1\n",
       "            94     0          0            4.268355   True          125000000     125000000      27294        27294            na              0          0           0          0           27294              1                  27291             0              0                    1\n",
       "                                                                                                                                                                                                                                                                                        ..\n",
       "            444    0          0            4.231390   True          125000000     125000000      27294        27294            na              0          0           0          0           27294              1                  27291             0              0                    1\n",
       "            477    0          0            4.251324   True          125000000     125000000      27294        27294            na              0          0           0          0           27294              1                  27291             0              0                    1\n",
       "            484    0          0            4.290453   True          125000000     125000000      27294        27294            na              0          0           0          0           27294              1                  27291             0              0                    1\n",
       "            494    0          0            4.276205   True          125000000     125000000      27294        27294            na              0          0           0          0           27294              1                  27291             0              0                    1\n",
       "            495    0          0            4.248989   True          125000000     125000000      27294        27294            na              0          0           0          0           27294              1                  27291             0              0                    1\n",
       "Name: count, Length: 2024, dtype: int64"
      ]
     },
     "execution_count": 12,
     "metadata": {},
     "output_type": "execute_result"
    }
   ],
   "source": [
    "results.query('(snmp_SndbufErrors != 0)').value_counts()\n",
    "#results.query('(snmp_SndbufErrors != 0) & (Xfer_success == True)').value_counts()"
   ]
  }
 ],
 "metadata": {
  "kernelspec": {
   "display_name": "Python 3 (ipykernel)",
   "language": "python",
   "name": "python3"
  },
  "language_info": {
   "codemirror_mode": {
    "name": "ipython",
    "version": 3
   },
   "file_extension": ".py",
   "mimetype": "text/x-python",
   "name": "python",
   "nbconvert_exporter": "python",
   "pygments_lexer": "ipython3",
   "version": "3.12.3"
  }
 },
 "nbformat": 4,
 "nbformat_minor": 5
}
