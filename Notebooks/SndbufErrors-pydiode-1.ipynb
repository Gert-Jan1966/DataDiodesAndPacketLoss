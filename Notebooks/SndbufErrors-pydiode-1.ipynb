{
 "cells": [
  {
   "cell_type": "markdown",
   "id": "326d8237",
   "metadata": {},
   "source": [
    "# SndbufErrors analysis - Pydiode with redundancy=1"
   ]
  },
  {
   "cell_type": "code",
   "execution_count": 68,
   "id": "1564e92d",
   "metadata": {},
   "outputs": [],
   "source": [
    "import pandas as pd\n",
    "\n",
    "# Pydiode red=1 met std MTU:\n",
    "# UDP.c\n",
    "test_default_1500_1000 = pd.read_csv('https://raw.githubusercontent.com/Gert-Jan1966/DataDiodesAndPacketLoss/main/Testresults/recbuff-4mib/default/pydiode-1/testresults_pydiode_1_1000000000.csv')\n",
    "test_default_1500_0750 = pd.read_csv('https://raw.githubusercontent.com/Gert-Jan1966/DataDiodesAndPacketLoss/main/Testresults/recbuff-4mib/default/pydiode-1/testresults_pydiode_1_750000000.csv')\n",
    "test_default_1500_0500 = pd.read_csv('https://raw.githubusercontent.com/Gert-Jan1966/DataDiodesAndPacketLoss/main/Testresults/recbuff-4mib/default/pydiode-1/testresults_pydiode_1_500000000.csv')\n",
    "# dd_udp.c\n",
    "test_dd_udp_1500_1000  = pd.read_csv('https://raw.githubusercontent.com/Gert-Jan1966/DataDiodesAndPacketLoss/main/Testresults/recbuff-4mib/dd_udp.c/pydiode-1/testresults_pydiode_1_1000000000.csv')\n",
    "test_dd_udp_1500_0750  = pd.read_csv('https://raw.githubusercontent.com/Gert-Jan1966/DataDiodesAndPacketLoss/main/Testresults/recbuff-4mib/dd_udp.c/pydiode-1/testresults_pydiode_1_750000000.csv')\n",
    "test_dd_udp_1500_0500  = pd.read_csv('https://raw.githubusercontent.com/Gert-Jan1966/DataDiodesAndPacketLoss/main/Testresults/recbuff-4mib/dd_udp.c/pydiode-1/testresults_pydiode_1_500000000.csv')\n",
    "\n",
    "# Pydiode red=1 met MTU=9194\n",
    "# UDP.c\n",
    "test_default_9194_1000 = pd.read_csv('https://raw.githubusercontent.com/Gert-Jan1966/DataDiodesAndPacketLoss/main/Testresults/recbuff-4mib/default/pydiode-1-mtu9194/testresults_pydiode_1_1000000000.csv')\n",
    "test_default_9194_0750 = pd.read_csv('https://raw.githubusercontent.com/Gert-Jan1966/DataDiodesAndPacketLoss/main/Testresults/recbuff-4mib/default/pydiode-1-mtu9194/testresults_pydiode_1_750000000.csv')\n",
    "test_default_9194_0500 = pd.read_csv('https://raw.githubusercontent.com/Gert-Jan1966/DataDiodesAndPacketLoss/main/Testresults/recbuff-4mib/default/pydiode-1-mtu9194/testresults_pydiode_1_500000000.csv')\n",
    "# dd_udp.c\n",
    "test_dd_udp_9194_1000  = pd.read_csv('https://raw.githubusercontent.com/Gert-Jan1966/DataDiodesAndPacketLoss/main/Testresults/recbuff-4mib/dd_udp.c/pydiode-1-mtu9194/testresults_pydiode_1_1000000000.csv')\n",
    "test_dd_udp_9194_0750  = pd.read_csv('https://raw.githubusercontent.com/Gert-Jan1966/DataDiodesAndPacketLoss/main/Testresults/recbuff-4mib/dd_udp.c/pydiode-1-mtu9194/testresults_pydiode_1_750000000.csv')\n",
    "test_dd_udp_9194_0500  = pd.read_csv('https://raw.githubusercontent.com/Gert-Jan1966/DataDiodesAndPacketLoss/main/Testresults/recbuff-4mib/dd_udp.c/pydiode-1-mtu9194/testresults_pydiode_1_500000000.csv')\n",
    "\n",
    "# Pydiode red=1 met MTU=9194 en data segment = 9166 bytes\n",
    "# UDP.c\n",
    "test_default_9194_9166_1000 = pd.read_csv('https://raw.githubusercontent.com/Gert-Jan1966/DataDiodesAndPacketLoss/main/Testresults/recbuff-4mib/default/pydiode-1-mtu9194-9166/testresults_pydiode_1_1000000000.csv')\n",
    "test_default_9194_9166_0750 = pd.read_csv('https://raw.githubusercontent.com/Gert-Jan1966/DataDiodesAndPacketLoss/main/Testresults/recbuff-4mib/default/pydiode-1-mtu9194-9166/testresults_pydiode_1_750000000.csv')\n",
    "test_default_9194_9166_0500 = pd.read_csv('https://raw.githubusercontent.com/Gert-Jan1966/DataDiodesAndPacketLoss/main/Testresults/recbuff-4mib/default/pydiode-1-mtu9194-9166/testresults_pydiode_1_500000000.csv')\n",
    "# dd_udp.c\n",
    "test_dd_udp_9194_9166_1000  = pd.read_csv('https://raw.githubusercontent.com/Gert-Jan1966/DataDiodesAndPacketLoss/main/Testresults/recbuff-4mib/dd_udp.c/pydiode-1-mtu9194-9166/testresults_pydiode_1_1000000000.csv')\n",
    "test_dd_udp_9194_9166_0500  = pd.read_csv('https://raw.githubusercontent.com/Gert-Jan1966/DataDiodesAndPacketLoss/main/Testresults/recbuff-4mib/dd_udp.c/pydiode-1-mtu9194-9166/testresults_pydiode_1_500000000.csv')\n",
    "test_dd_udp_9194_9166_0750  = pd.read_csv('https://raw.githubusercontent.com/Gert-Jan1966/DataDiodesAndPacketLoss/main/Testresults/recbuff-4mib/dd_udp.c/pydiode-1-mtu9194-9166/testresults_pydiode_1_750000000.csv')\n"
   ]
  },
  {
   "cell_type": "markdown",
   "id": "69c8fbb7",
   "metadata": {},
   "source": [
    "# MTU=1500"
   ]
  },
  {
   "cell_type": "code",
   "execution_count": 69,
   "id": "848f1b97",
   "metadata": {},
   "outputs": [
    {
     "name": "stdout",
     "output_type": "stream",
     "text": [
      "avg_test_default_1500_1000: 1509\n",
      "num_test_default_1500_1000: 1000\n",
      "avg_test_default_1500_0750: 0\n",
      "num_test_default_1500_0750: 18\n",
      "avg_test_default_1500_0500: 0\n",
      "num_test_default_1500_0500: 0\n",
      "avg_test_dd_udp_1500_1000: 1525\n",
      "num_test_dd_udp_1500_1000: 1000\n",
      "avg_test_dd_udp_1500_0750: 0\n",
      "num_test_dd_udp_1500_0750: 3\n",
      "avg_test_dd_udp_1500_0500: 0\n",
      "num_test_dd_udp_1500_0500: 0\n"
     ]
    }
   ],
   "source": [
    "\n",
    "avg_test_default_1500_1000 = int(test_default_1500_1000['snmp_SndbufErrors'].mean())\n",
    "avg_test_default_1500_0750 = int(test_default_1500_0750['snmp_SndbufErrors'].mean())\n",
    "avg_test_default_1500_0500 = int(test_default_1500_0500['snmp_SndbufErrors'].mean())\n",
    "\n",
    "num_test_default_1500_1000 = (test_default_1500_1000[\"snmp_SndbufErrors\"] > 0).sum()\n",
    "num_test_default_1500_0750 = (test_default_1500_0750[\"snmp_SndbufErrors\"] > 0).sum()\n",
    "num_test_default_1500_0500 = (test_default_1500_0500[\"snmp_SndbufErrors\"] > 0).sum()\n",
    "\n",
    "\n",
    "avg_test_dd_udp_1500_1000 = int(test_dd_udp_1500_1000['snmp_SndbufErrors'].mean())\n",
    "avg_test_dd_udp_1500_0750 = int(test_dd_udp_1500_0750['snmp_SndbufErrors'].mean())\n",
    "avg_test_dd_udp_1500_0500 = int(test_dd_udp_1500_0500['snmp_SndbufErrors'].mean())\n",
    "\n",
    "num_test_dd_udp_1500_1000 = (test_dd_udp_1500_1000[\"snmp_SndbufErrors\"] > 0).sum()\n",
    "num_test_dd_udp_1500_0750 = (test_dd_udp_1500_0750[\"snmp_SndbufErrors\"] > 0).sum()\n",
    "num_test_dd_udp_1500_0500 = (test_dd_udp_1500_0500[\"snmp_SndbufErrors\"] > 0).sum()\n",
    "\n",
    "\n",
    "print(f\"avg_test_default_1500_1000: {avg_test_default_1500_1000}\")\n",
    "print(f\"num_test_default_1500_1000: {num_test_default_1500_1000}\")\n",
    "\n",
    "print(f\"avg_test_default_1500_0750: {avg_test_default_1500_0750}\")\n",
    "print(f\"num_test_default_1500_0750: {num_test_default_1500_0750}\")\n",
    "\n",
    "print(f\"avg_test_default_1500_0500: {avg_test_default_1500_0500}\")\n",
    "print(f\"num_test_default_1500_0500: {num_test_default_1500_0500}\")\n",
    "\n",
    "\n",
    "print(f\"avg_test_dd_udp_1500_1000: {avg_test_dd_udp_1500_1000}\")\n",
    "print(f\"num_test_dd_udp_1500_1000: {num_test_dd_udp_1500_1000}\")\n",
    "\n",
    "print(f\"avg_test_dd_udp_1500_0750: {avg_test_dd_udp_1500_0750}\")\n",
    "print(f\"num_test_dd_udp_1500_0750: {num_test_dd_udp_1500_0750}\")\n",
    "\n",
    "print(f\"avg_test_dd_udp_1500_0500: {avg_test_dd_udp_1500_0500}\")\n",
    "print(f\"num_test_dd_udp_1500_0500: {num_test_dd_udp_1500_0500}\")\n"
   ]
  },
  {
   "cell_type": "markdown",
   "id": "b70f5ed0",
   "metadata": {},
   "source": [
    "# MTU=9194"
   ]
  },
  {
   "cell_type": "code",
   "execution_count": 70,
   "id": "c4dcabd5",
   "metadata": {},
   "outputs": [
    {
     "name": "stdout",
     "output_type": "stream",
     "text": [
      "avg_test_default_9194_1000: 892\n",
      "num_test_default_9194_1000: 1000\n",
      "avg_test_default_9194_0750: 191\n",
      "num_test_default_9194_0750: 1000\n",
      "avg_test_default_9194_0500: 0\n",
      "num_test_default_9194_0500: 6\n",
      "avg_test_dd_udp_9194_1000: 889\n",
      "num_test_dd_udp_9194_1000: 1000\n",
      "avg_test_dd_udp_9194_0750: 230\n",
      "num_test_dd_udp_9194_0750: 1000\n",
      "avg_test_dd_udp_9194_0500: 0\n",
      "num_test_dd_udp_9194_0500: 15\n"
     ]
    }
   ],
   "source": [
    "\n",
    "avg_test_default_9194_1000 = int(test_default_9194_1000['snmp_SndbufErrors'].mean())\n",
    "avg_test_default_9194_0750 = int(test_default_9194_0750['snmp_SndbufErrors'].mean())\n",
    "avg_test_default_9194_0500 = int(test_default_9194_0500['snmp_SndbufErrors'].mean())\n",
    "\n",
    "num_test_default_9194_1000 = (test_default_9194_1000[\"snmp_SndbufErrors\"] > 0).sum()\n",
    "num_test_default_9194_0750 = (test_default_9194_0750[\"snmp_SndbufErrors\"] > 0).sum()\n",
    "num_test_default_9194_0500 = (test_default_9194_0500[\"snmp_SndbufErrors\"] > 0).sum()\n",
    "\n",
    "\n",
    "avg_test_dd_udp_9194_1000 = int(test_dd_udp_9194_1000['snmp_SndbufErrors'].mean())\n",
    "avg_test_dd_udp_9194_0750 = int(test_dd_udp_9194_0750['snmp_SndbufErrors'].mean())\n",
    "avg_test_dd_udp_9194_0500 = int(test_dd_udp_9194_0500['snmp_SndbufErrors'].mean())\n",
    "\n",
    "num_test_dd_udp_9194_1000 = (test_dd_udp_9194_1000[\"snmp_SndbufErrors\"] > 0).sum()\n",
    "num_test_dd_udp_9194_0750 = (test_dd_udp_9194_0750[\"snmp_SndbufErrors\"] > 0).sum()\n",
    "num_test_dd_udp_9194_0500 = (test_dd_udp_9194_0500[\"snmp_SndbufErrors\"] > 0).sum()\n",
    "\n",
    "\n",
    "print(f\"avg_test_default_9194_1000: {avg_test_default_9194_1000}\")\n",
    "print(f\"num_test_default_9194_1000: {num_test_default_9194_1000}\")\n",
    "\n",
    "print(f\"avg_test_default_9194_0750: {avg_test_default_9194_0750}\")\n",
    "print(f\"num_test_default_9194_0750: {num_test_default_9194_0750}\")\n",
    "\n",
    "print(f\"avg_test_default_9194_0500: {avg_test_default_9194_0500}\")\n",
    "print(f\"num_test_default_9194_0500: {num_test_default_9194_0500}\")\n",
    "\n",
    "\n",
    "print(f\"avg_test_dd_udp_9194_1000: {avg_test_dd_udp_9194_1000}\")\n",
    "print(f\"num_test_dd_udp_9194_1000: {num_test_dd_udp_9194_1000}\")\n",
    "\n",
    "print(f\"avg_test_dd_udp_9194_0750: {avg_test_dd_udp_9194_0750}\")\n",
    "print(f\"num_test_dd_udp_9194_0750: {num_test_dd_udp_9194_0750}\")\n",
    "\n",
    "print(f\"avg_test_dd_udp_9194_0500: {avg_test_dd_udp_9194_0500}\")\n",
    "print(f\"num_test_dd_udp_9194_0500: {num_test_dd_udp_9194_0500}\")\n"
   ]
  },
  {
   "cell_type": "markdown",
   "id": "86518d6d",
   "metadata": {},
   "source": [
    "# MTU=9194 and Data Segment size is 9166"
   ]
  },
  {
   "cell_type": "code",
   "execution_count": 71,
   "id": "9b3ea67e",
   "metadata": {},
   "outputs": [
    {
     "name": "stdout",
     "output_type": "stream",
     "text": [
      "avg_test_default_9194_9166_1000: 827\n",
      "num_test_default_9194_9166_1000: 1000\n",
      "avg_test_default_9194_9166_0750: 197\n",
      "num_test_default_9194_9166_0750: 1000\n",
      "avg_test_default_9194_9166_0500: 0\n",
      "num_test_default_9194_9166_0500: 11\n",
      "avg_test_dd_udp_9194_9166_1000: 826\n",
      "num_test_dd_udp_9194_9166_1000: 1000\n",
      "avg_test_dd_udp_9194_9166_0750: 202\n",
      "num_test_dd_udp_9194_9166_0750: 1000\n",
      "avg_test_dd_udp_9194_9166_0500: 0\n",
      "num_test_dd_udp_9194_9166_0500: 15\n"
     ]
    }
   ],
   "source": [
    "\n",
    "avg_test_default_9194_9166_1000 = int(test_default_9194_9166_1000['snmp_SndbufErrors'].mean())\n",
    "avg_test_default_9194_9166_0750 = int(test_default_9194_9166_0750['snmp_SndbufErrors'].mean())\n",
    "avg_test_default_9194_9166_0500 = int(test_default_9194_9166_0500['snmp_SndbufErrors'].mean())\n",
    "\n",
    "num_test_default_9194_9166_1000 = (test_default_9194_9166_1000[\"snmp_SndbufErrors\"] > 0).sum()\n",
    "num_test_default_9194_9166_0750 = (test_default_9194_9166_0750[\"snmp_SndbufErrors\"] > 0).sum()\n",
    "num_test_default_9194_9166_0500 = (test_default_9194_9166_0500[\"snmp_SndbufErrors\"] > 0).sum()\n",
    "\n",
    "\n",
    "avg_test_dd_udp_9194_9166_1000 = int(test_dd_udp_9194_9166_1000['snmp_SndbufErrors'].mean())\n",
    "avg_test_dd_udp_9194_9166_0750 = int(test_dd_udp_9194_9166_0750['snmp_SndbufErrors'].mean())\n",
    "avg_test_dd_udp_9194_9166_0500 = int(test_dd_udp_9194_9166_0500['snmp_SndbufErrors'].mean())\n",
    "\n",
    "num_test_dd_udp_9194_9166_1000 = (test_dd_udp_9194_9166_1000[\"snmp_SndbufErrors\"] > 0).sum()\n",
    "num_test_dd_udp_9194_9166_0750 = (test_dd_udp_9194_9166_0750[\"snmp_SndbufErrors\"] > 0).sum()\n",
    "num_test_dd_udp_9194_9166_0500 = (test_dd_udp_9194_9166_0500[\"snmp_SndbufErrors\"] > 0).sum()\n",
    "\n",
    "\n",
    "print(f\"avg_test_default_9194_9166_1000: {avg_test_default_9194_9166_1000}\")\n",
    "print(f\"num_test_default_9194_9166_1000: {num_test_default_9194_9166_1000}\")\n",
    "\n",
    "print(f\"avg_test_default_9194_9166_0750: {avg_test_default_9194_9166_0750}\")\n",
    "print(f\"num_test_default_9194_9166_0750: {num_test_default_9194_9166_0750}\")\n",
    "\n",
    "print(f\"avg_test_default_9194_9166_0500: {avg_test_default_9194_9166_0500}\")\n",
    "print(f\"num_test_default_9194_9166_0500: {num_test_default_9194_9166_0500}\")\n",
    "\n",
    "\n",
    "print(f\"avg_test_dd_udp_9194_9166_1000: {avg_test_dd_udp_9194_9166_1000}\")\n",
    "print(f\"num_test_dd_udp_9194_9166_1000: {num_test_dd_udp_9194_9166_1000}\")\n",
    "\n",
    "print(f\"avg_test_dd_udp_9194_9166_0750: {avg_test_dd_udp_9194_9166_0750}\")\n",
    "print(f\"num_test_dd_udp_9194_9166_0750: {num_test_dd_udp_9194_9166_0750}\")\n",
    "\n",
    "print(f\"avg_test_dd_udp_9194_9166_0500: {avg_test_dd_udp_9194_9166_0500}\")\n",
    "print(f\"num_test_dd_udp_9194_9166_0500: {num_test_dd_udp_9194_9166_0500}\")\n"
   ]
  }
 ],
 "metadata": {
  "kernelspec": {
   "display_name": "Python 3 (ipykernel)",
   "language": "python",
   "name": "python3"
  },
  "language_info": {
   "codemirror_mode": {
    "name": "ipython",
    "version": 3
   },
   "file_extension": ".py",
   "mimetype": "text/x-python",
   "name": "python",
   "nbconvert_exporter": "python",
   "pygments_lexer": "ipython3",
   "version": "3.12.3"
  }
 },
 "nbformat": 4,
 "nbformat_minor": 5
}
