{
 "cells": [
  {
   "cell_type": "markdown",
   "id": "1564e92d",
   "metadata": {},
   "source": [
    "## Netcat - dd_udp.c - 16 MiB rcv sckt buffer"
   ]
  },
  {
   "cell_type": "code",
   "execution_count": 17,
   "id": "93b33b6d",
   "metadata": {},
   "outputs": [
    {
     "name": "stdout",
     "output_type": "stream",
     "text": [
      "<class 'pandas.core.frame.DataFrame'>\n",
      "Index: 5000 entries, 0 to 999\n",
      "Data columns (total 20 columns):\n",
      " #   Column             Non-Null Count  Dtype  \n",
      "---  ------             --------------  -----  \n",
      " 0   bitrate            5000 non-null   int64  \n",
      " 1   trial              5000 non-null   int64  \n",
      " 2   sender_rc          5000 non-null   int64  \n",
      " 3   receiver_rc        5000 non-null   int64  \n",
      " 4   Xfer_time          5000 non-null   float64\n",
      " 5   Xfer_success       5000 non-null   bool   \n",
      " 6   in_file_size       5000 non-null   int64  \n",
      " 7   out_file_size      5000 non-null   int64  \n",
      " 8   dtgrms_sent        5000 non-null   int64  \n",
      " 9   dtgrms_received    5000 non-null   int64  \n",
      " 10  dtgrms_corrupt     5000 non-null   object \n",
      " 11  tx_errors          5000 non-null   int64  \n",
      " 12  tx_dropped         5000 non-null   int64  \n",
      " 13  rx_errors          5000 non-null   int64  \n",
      " 14  rx_dropped         5000 non-null   int64  \n",
      " 15  snmp_OutDatagrams  5000 non-null   int64  \n",
      " 16  snmp_SndbufErrors  5000 non-null   int64  \n",
      " 17  snmp_InDatagrams   5000 non-null   int64  \n",
      " 18  snmp_InErrors      5000 non-null   int64  \n",
      " 19  snmp_RcvbufErrors  5000 non-null   int64  \n",
      "dtypes: bool(1), float64(1), int64(17), object(1)\n",
      "memory usage: 786.1+ KB\n"
     ]
    }
   ],
   "source": [
    "import pandas as pd\n",
    "\n",
    "tests1 = pd.read_csv('https://raw.githubusercontent.com/Gert-Jan1966/DataDiodesAndPacketLoss/main/Testresults/recbuff-16mib/dd_udp.c/nc/testresults_nc_100000000.csv')\n",
    "tests2 = pd.read_csv('https://raw.githubusercontent.com/Gert-Jan1966/DataDiodesAndPacketLoss/main/Testresults/recbuff-16mib/dd_udp.c/nc/testresults_nc_250000000.csv')\n",
    "tests3 = pd.read_csv('https://raw.githubusercontent.com/Gert-Jan1966/DataDiodesAndPacketLoss/main/Testresults/recbuff-16mib/dd_udp.c/nc/testresults_nc_500000000.csv')\n",
    "tests4 = pd.read_csv('https://raw.githubusercontent.com/Gert-Jan1966/DataDiodesAndPacketLoss/main/Testresults/recbuff-16mib/dd_udp.c/nc/testresults_nc_750000000.csv')\n",
    "tests5 = pd.read_csv('https://raw.githubusercontent.com/Gert-Jan1966/DataDiodesAndPacketLoss/main/Testresults/recbuff-16mib/dd_udp.c/nc/testresults_nc_1000000000.csv')\n",
    "results = pd.concat([tests1, tests2, tests3, tests4, tests5])\n",
    "results.info()"
   ]
  },
  {
   "cell_type": "markdown",
   "id": "01357abb",
   "metadata": {},
   "source": [
    "#### Transfer success vs Transfer failure"
   ]
  },
  {
   "cell_type": "code",
   "execution_count": 18,
   "id": "383e6319",
   "metadata": {},
   "outputs": [
    {
     "data": {
      "text/plain": [
       "Xfer_success\n",
       "True     4798\n",
       "False     202\n",
       "Name: count, dtype: int64"
      ]
     },
     "execution_count": 18,
     "metadata": {},
     "output_type": "execute_result"
    }
   ],
   "source": [
    "results['Xfer_success'].value_counts()"
   ]
  },
  {
   "cell_type": "markdown",
   "id": "b2bb4f24",
   "metadata": {},
   "source": [
    "#### Did we lose Frames at the Link layer?\n",
    "In that case, at least one of 'tx_errors', 'tx_dropped', 'rx_errors' or 'rx_dropped' should not be zero....."
   ]
  },
  {
   "cell_type": "code",
   "execution_count": 19,
   "id": "f5cd3c1d",
   "metadata": {},
   "outputs": [
    {
     "data": {
      "text/plain": [
       "Series([], Name: count, dtype: int64)"
      ]
     },
     "execution_count": 19,
     "metadata": {},
     "output_type": "execute_result"
    }
   ],
   "source": [
    "results.query('(tx_errors != 0) | (tx_dropped != 0) | (rx_errors != 0) | (rx_dropped != 0)').value_counts()"
   ]
  },
  {
   "cell_type": "markdown",
   "id": "ccbedb08",
   "metadata": {},
   "source": [
    "#### Did we lose UDP Datagrams at the Transport layer? (needs dd_udp.c module)"
   ]
  },
  {
   "cell_type": "code",
   "execution_count": 20,
   "id": "5e337a69",
   "metadata": {},
   "outputs": [
    {
     "data": {
      "text/plain": [
       "Series([], Name: count, dtype: int64)"
      ]
     },
     "execution_count": 20,
     "metadata": {},
     "output_type": "execute_result"
    }
   ],
   "source": [
    "results.query('dtgrms_sent != dtgrms_received').value_counts()"
   ]
  },
  {
   "cell_type": "markdown",
   "id": "cc96a5c4",
   "metadata": {},
   "source": [
    "#### How many trials with receiver socket buffer errors? (lost Segments)"
   ]
  },
  {
   "cell_type": "code",
   "execution_count": 21,
   "id": "64567057",
   "metadata": {},
   "outputs": [
    {
     "data": {
      "text/plain": [
       "bitrate     trial  sender_rc  receiver_rc  Xfer_time  Xfer_success  in_file_size  out_file_size  dtgrms_sent  dtgrms_received  dtgrms_corrupt  tx_errors  tx_dropped  rx_errors  rx_dropped  snmp_OutDatagrams  snmp_SndbufErrors  snmp_InDatagrams  snmp_InErrors  snmp_RcvbufErrors\n",
       "1000000000  939    0          0            9.243989   False         125000000     124098880      7630         7630             na              0          0           0          0           7630               0                  7575              55             55                   1\n",
       "100000000   4      0          0            11.037621  False         125000000     104274240      7630         7630             na              0          0           0          0           7630               0                  6365              1265           1265                 1\n",
       "750000000   587    0          0            2.379142   False         125000000     89128960       7630         7630             na              0          0           0          0           7630               0                  5440              2190           2190                 1\n",
       "            625    0          0            2.365074   False         125000000     106846528      7630         7630             na              0          0           0          0           7630               0                  6522              1108           1108                 1\n",
       "            647    0          0            2.363396   False         125000000     74455360       7630         7630             na              0          0           0          0           7630               0                  4545              3085           3085                 1\n",
       "                                                                                                                                                                                                                                                                                        ..\n",
       "100000000   33     0          0            11.037064  False         125000000     103520576      7630         7630             na              0          0           0          0           7630               0                  6319              1311           1311                 1\n",
       "            39     0          0            11.031159  False         125000000     104372544      7630         7630             na              0          0           0          0           7630               0                  6371              1259           1259                 1\n",
       "            62     0          0            11.033890  False         125000000     109582656      7630         7630             na              0          0           0          0           7630               0                  6689              941            941                  1\n",
       "            64     0          0            11.041224  False         125000000     102029632      7630         7630             na              0          0           0          0           7630               0                  6228              1402           1402                 1\n",
       "            65     0          0            12.035967  False         125000000     118423552      7630         7630             na              0          0           0          0           7630               0                  7228              402            402                  1\n",
       "Name: count, Length: 202, dtype: int64"
      ]
     },
     "execution_count": 21,
     "metadata": {},
     "output_type": "execute_result"
    }
   ],
   "source": [
    "results.query('snmp_RcvbufErrors != 0').value_counts()"
   ]
  },
  {
   "cell_type": "markdown",
   "id": "c2db0954",
   "metadata": {},
   "source": [
    "#### Does the number of receiver socket InErrors equal the number of receiver buffer errors?"
   ]
  },
  {
   "cell_type": "code",
   "execution_count": 22,
   "id": "2875bdb3",
   "metadata": {},
   "outputs": [
    {
     "data": {
      "text/plain": [
       "Series([], Name: count, dtype: int64)"
      ]
     },
     "execution_count": 22,
     "metadata": {},
     "output_type": "execute_result"
    }
   ],
   "source": [
    "results.query('snmp_InErrors != snmp_RcvbufErrors').value_counts()"
   ]
  },
  {
   "cell_type": "markdown",
   "id": "a1f9711e",
   "metadata": {},
   "source": [
    "#### Do all unsuccessful trials match all trials with receiver buffer errors?"
   ]
  },
  {
   "cell_type": "code",
   "execution_count": 23,
   "id": "080b56fe",
   "metadata": {},
   "outputs": [
    {
     "data": {
      "text/plain": [
       "bitrate     trial  sender_rc  receiver_rc  Xfer_time  Xfer_success  in_file_size  out_file_size  dtgrms_sent  dtgrms_received  dtgrms_corrupt  tx_errors  tx_dropped  rx_errors  rx_dropped  snmp_OutDatagrams  snmp_SndbufErrors  snmp_InDatagrams  snmp_InErrors  snmp_RcvbufErrors\n",
       "1000000000  939    0          0            9.243989   False         125000000     124098880      7630         7630             na              0          0           0          0           7630               0                  7575              55             55                   1\n",
       "100000000   4      0          0            11.037621  False         125000000     104274240      7630         7630             na              0          0           0          0           7630               0                  6365              1265           1265                 1\n",
       "750000000   587    0          0            2.379142   False         125000000     89128960       7630         7630             na              0          0           0          0           7630               0                  5440              2190           2190                 1\n",
       "            625    0          0            2.365074   False         125000000     106846528      7630         7630             na              0          0           0          0           7630               0                  6522              1108           1108                 1\n",
       "            647    0          0            2.363396   False         125000000     74455360       7630         7630             na              0          0           0          0           7630               0                  4545              3085           3085                 1\n",
       "                                                                                                                                                                                                                                                                                        ..\n",
       "100000000   33     0          0            11.037064  False         125000000     103520576      7630         7630             na              0          0           0          0           7630               0                  6319              1311           1311                 1\n",
       "            39     0          0            11.031159  False         125000000     104372544      7630         7630             na              0          0           0          0           7630               0                  6371              1259           1259                 1\n",
       "            62     0          0            11.033890  False         125000000     109582656      7630         7630             na              0          0           0          0           7630               0                  6689              941            941                  1\n",
       "            64     0          0            11.041224  False         125000000     102029632      7630         7630             na              0          0           0          0           7630               0                  6228              1402           1402                 1\n",
       "            65     0          0            12.035967  False         125000000     118423552      7630         7630             na              0          0           0          0           7630               0                  7228              402            402                  1\n",
       "Name: count, Length: 202, dtype: int64"
      ]
     },
     "execution_count": 23,
     "metadata": {},
     "output_type": "execute_result"
    }
   ],
   "source": [
    "results.query('(snmp_RcvbufErrors != 0) & (Xfer_success == False)').value_counts()"
   ]
  },
  {
   "cell_type": "markdown",
   "id": "b9cbbef9",
   "metadata": {},
   "source": [
    "#### And what about snmp_SndbufErrors?"
   ]
  },
  {
   "cell_type": "code",
   "execution_count": 24,
   "id": "4e829b54",
   "metadata": {},
   "outputs": [
    {
     "data": {
      "text/plain": [
       "Series([], Name: count, dtype: int64)"
      ]
     },
     "execution_count": 24,
     "metadata": {},
     "output_type": "execute_result"
    }
   ],
   "source": [
    "results.query('(snmp_SndbufErrors != 0)').value_counts()\n",
    "#results.query('(snmp_SndbufErrors != 0) & (Xfer_success == True)').value_counts()"
   ]
  }
 ],
 "metadata": {
  "kernelspec": {
   "display_name": "Python 3 (ipykernel)",
   "language": "python",
   "name": "python3"
  },
  "language_info": {
   "codemirror_mode": {
    "name": "ipython",
    "version": 3
   },
   "file_extension": ".py",
   "mimetype": "text/x-python",
   "name": "python",
   "nbconvert_exporter": "python",
   "pygments_lexer": "ipython3",
   "version": "3.12.3"
  }
 },
 "nbformat": 4,
 "nbformat_minor": 5
}
