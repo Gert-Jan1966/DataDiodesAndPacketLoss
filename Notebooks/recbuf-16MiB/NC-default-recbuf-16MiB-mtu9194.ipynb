{
 "cells": [
  {
   "cell_type": "markdown",
   "id": "326d8237",
   "metadata": {},
   "source": [
    "## Netcat - UDP.c - 16 MiB rcv sckt buffer - MTU 9194"
   ]
  },
  {
   "cell_type": "code",
   "execution_count": 1,
   "id": "1564e92d",
   "metadata": {},
   "outputs": [
    {
     "name": "stdout",
     "output_type": "stream",
     "text": [
      "<class 'pandas.core.frame.DataFrame'>\n",
      "Index: 5000 entries, 0 to 999\n",
      "Data columns (total 20 columns):\n",
      " #   Column             Non-Null Count  Dtype  \n",
      "---  ------             --------------  -----  \n",
      " 0   bitrate            5000 non-null   int64  \n",
      " 1   trial              5000 non-null   int64  \n",
      " 2   sender_rc          5000 non-null   int64  \n",
      " 3   receiver_rc        5000 non-null   int64  \n",
      " 4   Xfer_time          5000 non-null   float64\n",
      " 5   Xfer_success       5000 non-null   bool   \n",
      " 6   in_file_size       5000 non-null   int64  \n",
      " 7   out_file_size      5000 non-null   int64  \n",
      " 8   dtgrms_sent        5000 non-null   object \n",
      " 9   dtgrms_received    5000 non-null   object \n",
      " 10  dtgrms_corrupt     5000 non-null   object \n",
      " 11  tx_errors          5000 non-null   int64  \n",
      " 12  tx_dropped         5000 non-null   int64  \n",
      " 13  rx_errors          5000 non-null   int64  \n",
      " 14  rx_dropped         5000 non-null   int64  \n",
      " 15  snmp_OutDatagrams  5000 non-null   int64  \n",
      " 16  snmp_SndbufErrors  5000 non-null   int64  \n",
      " 17  snmp_InDatagrams   5000 non-null   int64  \n",
      " 18  snmp_InErrors      5000 non-null   int64  \n",
      " 19  snmp_RcvbufErrors  5000 non-null   int64  \n",
      "dtypes: bool(1), float64(1), int64(15), object(3)\n",
      "memory usage: 786.1+ KB\n"
     ]
    }
   ],
   "source": [
    "import pandas as pd\n",
    "\n",
    "tests1 = pd.read_csv('https://raw.githubusercontent.com/Gert-Jan1966/DataDiodesAndPacketLoss/main/Testresults/recbuff-16mib/default/nc-mtu9194/testresults_nc_100000000.csv')\n",
    "tests2 = pd.read_csv('https://raw.githubusercontent.com/Gert-Jan1966/DataDiodesAndPacketLoss/main/Testresults/recbuff-16mib/default/nc-mtu9194/testresults_nc_250000000.csv')\n",
    "tests3 = pd.read_csv('https://raw.githubusercontent.com/Gert-Jan1966/DataDiodesAndPacketLoss/main/Testresults/recbuff-16mib/default/nc-mtu9194/testresults_nc_500000000.csv')\n",
    "tests4 = pd.read_csv('https://raw.githubusercontent.com/Gert-Jan1966/DataDiodesAndPacketLoss/main/Testresults/recbuff-16mib/default/nc-mtu9194/testresults_nc_750000000.csv')\n",
    "tests5 = pd.read_csv('https://raw.githubusercontent.com/Gert-Jan1966/DataDiodesAndPacketLoss/main/Testresults/recbuff-16mib/default/nc-mtu9194/testresults_nc_1000000000.csv')\n",
    "results = pd.concat([tests1, tests2, tests3, tests4, tests5])\n",
    "results.info()"
   ]
  },
  {
   "cell_type": "markdown",
   "id": "edaaa58e",
   "metadata": {},
   "source": [
    "#### Transfer success vs Transfer failure"
   ]
  },
  {
   "cell_type": "code",
   "execution_count": 2,
   "id": "39e14b3f",
   "metadata": {},
   "outputs": [
    {
     "data": {
      "text/plain": [
       "Xfer_success\n",
       "True     4950\n",
       "False      50\n",
       "Name: count, dtype: int64"
      ]
     },
     "execution_count": 2,
     "metadata": {},
     "output_type": "execute_result"
    }
   ],
   "source": [
    "results['Xfer_success'].value_counts()"
   ]
  },
  {
   "cell_type": "markdown",
   "id": "2ae08cd6",
   "metadata": {},
   "source": [
    "#### Did we lose Frames at the Link layer?\n",
    "In that case, at least one of 'tx_errors', 'tx_dropped', 'rx_errors' or 'rx_dropped' should not be zero....."
   ]
  },
  {
   "cell_type": "code",
   "execution_count": 3,
   "id": "38b2fca8",
   "metadata": {},
   "outputs": [
    {
     "data": {
      "text/plain": [
       "Series([], Name: count, dtype: int64)"
      ]
     },
     "execution_count": 3,
     "metadata": {},
     "output_type": "execute_result"
    }
   ],
   "source": [
    "results.query('(tx_errors != 0) | (tx_dropped != 0) | (rx_errors != 0) | (rx_dropped != 0)').value_counts()"
   ]
  },
  {
   "cell_type": "markdown",
   "id": "f2af4fd3",
   "metadata": {},
   "source": [
    "#### How many trials with receiver socket buffer errors? (lost Segments)"
   ]
  },
  {
   "cell_type": "code",
   "execution_count": 4,
   "id": "64567057",
   "metadata": {},
   "outputs": [
    {
     "data": {
      "text/plain": [
       "bitrate     trial  sender_rc  receiver_rc  Xfer_time  Xfer_success  in_file_size  out_file_size  dtgrms_sent  dtgrms_received  dtgrms_corrupt  tx_errors  tx_dropped  rx_errors  rx_dropped  snmp_OutDatagrams  snmp_SndbufErrors  snmp_InDatagrams  snmp_InErrors  snmp_RcvbufErrors\n",
       "100000000   843    0          0            11.336637  False         125000000     120848384      na           na               na              0          0           0          0           7630               0                  7376              254            254                  1\n",
       "            923    0          0            11.052141  False         125000000     123869504      na           na               na              0          0           0          0           7630               0                  7561              69             69                   1\n",
       "            958    0          0            11.039442  False         125000000     114104640      na           na               na              0          0           0          0           7630               0                  6965              665            665                  1\n",
       "            961    0          0            11.113939  False         125000000     121044992      na           na               na              0          0           0          0           7630               0                  7388              242            242                  1\n",
       "250000000   27     0          0            10.938854  False         125000000     31408128       na           na               na              0          0           0          0           7630               0                  1917              5713           5713                 1\n",
       "            199    0          0            6.374543   False         125000000     91881472       na           na               na              0          0           0          0           7630               0                  5608              2022           2022                 1\n",
       "            297    0          0            9.750814   False         125000000     97910784       na           na               na              0          0           0          0           7630               0                  5976              1654           1654                 1\n",
       "            441    0          0            5.796880   False         125000000     97779712       na           na               na              0          0           0          0           7630               0                  5968              1662           1662                 1\n",
       "            644    0          0            5.033497   False         125000000     119855424      na           na               na              0          0           0          0           7630               0                  7316              314            314                  1\n",
       "            670    0          0            7.951315   False         125000000     97910784       na           na               na              0          0           0          0           7630               0                  5976              1654           1654                 1\n",
       "            713    0          0            5.033422   False         125000000     116267328      na           na               na              0          0           0          0           7630               0                  7097              533            533                  1\n",
       "            736    0          0            9.853370   False         125000000     88480064       na           na               na              0          0           0          0           7630               0                  5401              2229           2229                 1\n",
       "            741    0          0            5.032464   False         125000000     122722624      na           na               na              0          0           0          0           7630               0                  7491              139            139                  1\n",
       "            793    0          0            8.912025   False         125000000     97828864       na           na               na              0          0           0          0           7630               0                  5971              1659           1659                 1\n",
       "            897    0          0            5.030306   False         125000000     92379456       na           na               na              0          0           0          0           7630               0                  5639              1991           1991                 1\n",
       "            910    0          0            5.033765   False         125000000     122902848      na           na               na              0          0           0          0           7630               0                  7502              128            128                  1\n",
       "            915    0          0            6.484111   False         125000000     97828864       na           na               na              0          0           0          0           7630               0                  5971              1659           1659                 1\n",
       "            917    0          0            5.031796   False         125000000     114088256      na           na               na              0          0           0          0           7630               0                  6964              666            666                  1\n",
       "            925    0          0            5.031993   False         125000000     121035072      na           na               na              0          0           0          0           7630               0                  7388              242            242                  1\n",
       "            948    0          0            5.032915   False         125000000     81434944       na           na               na              0          0           0          0           7630               0                  4971              2659           2659                 1\n",
       "            952    0          0            5.035705   False         125000000     120543552      na           na               na              0          0           0          0           7630               0                  7358              272            272                  1\n",
       "            979    0          0            12.423380  False         125000000     28459008       na           na               na              0          0           0          0           7630               0                  1737              5893           5893                 1\n",
       "500000000   12     0          0            16.423511  False         125000000     10977280       na           na               na              0          0           0          0           7630               0                  670               6960           6960                 1\n",
       "            28     0          0            3.033125   False         125000000     124950848      na           na               na              0          0           0          0           7630               0                  7627              3              3                    1\n",
       "            480    0          0            3.033342   False         125000000     122542400      na           na               na              0          0           0          0           7630               0                  7480              150            150                  1\n",
       "            484    0          0            3.030933   False         125000000     111499584      na           na               na              0          0           0          0           7630               0                  6806              824            824                  1\n",
       "750000000   13     0          0            2.367448   False         125000000     90495296       na           na               na              0          0           0          0           7630               0                  5524              2106           2106                 1\n",
       "            24     0          0            9.102762   False         125000000     46399488       na           na               na              0          0           0          0           7630               0                  2832              4798           4798                 1\n",
       "            28     0          0            2.372929   False         125000000     100522304      na           na               na              0          0           0          0           7630               0                  6136              1494           1494                 1\n",
       "            145    0          0            2.358474   False         125000000     121002304      na           na               na              0          0           0          0           7630               0                  7386              244            244                  1\n",
       "            222    0          0            2.365637   False         125000000     112744768      na           na               na              0          0           0          0           7630               0                  6882              748            748                  1\n",
       "            263    0          0            2.365272   False         125000000     113613120      na           na               na              0          0           0          0           7630               0                  6935              695            695                  1\n",
       "            292    0          0            2.367516   False         125000000     102029632      na           na               na              0          0           0          0           7630               0                  6228              1402           1402                 1\n",
       "            377    0          0            2.362359   False         125000000     114252096      na           na               na              0          0           0          0           7630               0                  6974              656            656                  1\n",
       "            462    0          0            2.363730   False         125000000     73734464       na           na               na              0          0           0          0           7630               0                  4501              3129           3129                 1\n",
       "            472    0          0            2.364074   False         125000000     113727808      na           na               na              0          0           0          0           7630               0                  6942              688            688                  1\n",
       "            499    0          0            6.460483   False         125000000     46186496       na           na               na              0          0           0          0           7630               0                  2819              4811           4811                 1\n",
       "            517    0          0            2.367606   False         125000000     105929024      na           na               na              0          0           0          0           7630               0                  6466              1164           1164                 1\n",
       "            620    0          0            3.266881   False         125000000     107364352      na           na               na              0          0           0          0           7630               0                  6553              1077           1077                 1\n",
       "            646    0          0            2.398303   False         125000000     124469248      na           na               na              0          0           0          0           7630               0                  7597              33             33                   1\n",
       "            663    0          0            2.364656   False         125000000     110926144      na           na               na              0          0           0          0           7630               0                  6771              859            859                  1\n",
       "            699    0          0            2.366707   False         125000000     119511360      na           na               na              0          0           0          0           7630               0                  7295              335            335                  1\n",
       "            848    0          0            2.373954   False         125000000     116070720      na           na               na              0          0           0          0           7630               0                  7085              545            545                  1\n",
       "            859    0          0            2.365389   False         125000000     119937344      na           na               na              0          0           0          0           7630               0                  7321              309            309                  1\n",
       "            865    0          0            2.363348   False         125000000     123869504      na           na               na              0          0           0          0           7630               0                  7561              69             69                   1\n",
       "            904    0          0            2.365083   False         125000000     118561088      na           na               na              0          0           0          0           7630               0                  7237              393            393                  1\n",
       "            911    0          0            2.362666   False         125000000     102144320      na           na               na              0          0           0          0           7630               0                  6235              1395           1395                 1\n",
       "            996    0          0            2.366148   False         125000000     112089408      na           na               na              0          0           0          0           7630               0                  6842              788            788                  1\n",
       "1000000000  779    0          0            3.286830   False         125000000     70293824       na           na               na              0          0           0          0           7630               0                  4291              3339           3339                 1\n",
       "            896    0          0            2.032174   False         125000000     118085952      na           na               na              0          0           0          0           7630               0                  7208              422            422                  1\n",
       "Name: count, dtype: int64"
      ]
     },
     "execution_count": 4,
     "metadata": {},
     "output_type": "execute_result"
    }
   ],
   "source": [
    "results.query('snmp_RcvbufErrors != 0').value_counts()"
   ]
  },
  {
   "cell_type": "markdown",
   "id": "a2ff660c",
   "metadata": {},
   "source": [
    "#### Does the number of receiver socket InErrors equal the number of receiver buffer errors?"
   ]
  },
  {
   "cell_type": "code",
   "execution_count": 5,
   "id": "2875bdb3",
   "metadata": {},
   "outputs": [
    {
     "data": {
      "text/plain": [
       "Series([], Name: count, dtype: int64)"
      ]
     },
     "execution_count": 5,
     "metadata": {},
     "output_type": "execute_result"
    }
   ],
   "source": [
    "results.query('snmp_InErrors != snmp_RcvbufErrors').value_counts()"
   ]
  },
  {
   "cell_type": "markdown",
   "id": "17af6647",
   "metadata": {},
   "source": [
    "#### Do all unsuccessful trials match all trials with receiver buffer errors?"
   ]
  },
  {
   "cell_type": "code",
   "execution_count": 6,
   "id": "f5cd3c1d",
   "metadata": {},
   "outputs": [
    {
     "data": {
      "text/plain": [
       "bitrate     trial  sender_rc  receiver_rc  Xfer_time  Xfer_success  in_file_size  out_file_size  dtgrms_sent  dtgrms_received  dtgrms_corrupt  tx_errors  tx_dropped  rx_errors  rx_dropped  snmp_OutDatagrams  snmp_SndbufErrors  snmp_InDatagrams  snmp_InErrors  snmp_RcvbufErrors\n",
       "100000000   843    0          0            11.336637  False         125000000     120848384      na           na               na              0          0           0          0           7630               0                  7376              254            254                  1\n",
       "            923    0          0            11.052141  False         125000000     123869504      na           na               na              0          0           0          0           7630               0                  7561              69             69                   1\n",
       "            958    0          0            11.039442  False         125000000     114104640      na           na               na              0          0           0          0           7630               0                  6965              665            665                  1\n",
       "            961    0          0            11.113939  False         125000000     121044992      na           na               na              0          0           0          0           7630               0                  7388              242            242                  1\n",
       "250000000   27     0          0            10.938854  False         125000000     31408128       na           na               na              0          0           0          0           7630               0                  1917              5713           5713                 1\n",
       "            199    0          0            6.374543   False         125000000     91881472       na           na               na              0          0           0          0           7630               0                  5608              2022           2022                 1\n",
       "            297    0          0            9.750814   False         125000000     97910784       na           na               na              0          0           0          0           7630               0                  5976              1654           1654                 1\n",
       "            441    0          0            5.796880   False         125000000     97779712       na           na               na              0          0           0          0           7630               0                  5968              1662           1662                 1\n",
       "            644    0          0            5.033497   False         125000000     119855424      na           na               na              0          0           0          0           7630               0                  7316              314            314                  1\n",
       "            670    0          0            7.951315   False         125000000     97910784       na           na               na              0          0           0          0           7630               0                  5976              1654           1654                 1\n",
       "            713    0          0            5.033422   False         125000000     116267328      na           na               na              0          0           0          0           7630               0                  7097              533            533                  1\n",
       "            736    0          0            9.853370   False         125000000     88480064       na           na               na              0          0           0          0           7630               0                  5401              2229           2229                 1\n",
       "            741    0          0            5.032464   False         125000000     122722624      na           na               na              0          0           0          0           7630               0                  7491              139            139                  1\n",
       "            793    0          0            8.912025   False         125000000     97828864       na           na               na              0          0           0          0           7630               0                  5971              1659           1659                 1\n",
       "            897    0          0            5.030306   False         125000000     92379456       na           na               na              0          0           0          0           7630               0                  5639              1991           1991                 1\n",
       "            910    0          0            5.033765   False         125000000     122902848      na           na               na              0          0           0          0           7630               0                  7502              128            128                  1\n",
       "            915    0          0            6.484111   False         125000000     97828864       na           na               na              0          0           0          0           7630               0                  5971              1659           1659                 1\n",
       "            917    0          0            5.031796   False         125000000     114088256      na           na               na              0          0           0          0           7630               0                  6964              666            666                  1\n",
       "            925    0          0            5.031993   False         125000000     121035072      na           na               na              0          0           0          0           7630               0                  7388              242            242                  1\n",
       "            948    0          0            5.032915   False         125000000     81434944       na           na               na              0          0           0          0           7630               0                  4971              2659           2659                 1\n",
       "            952    0          0            5.035705   False         125000000     120543552      na           na               na              0          0           0          0           7630               0                  7358              272            272                  1\n",
       "            979    0          0            12.423380  False         125000000     28459008       na           na               na              0          0           0          0           7630               0                  1737              5893           5893                 1\n",
       "500000000   12     0          0            16.423511  False         125000000     10977280       na           na               na              0          0           0          0           7630               0                  670               6960           6960                 1\n",
       "            28     0          0            3.033125   False         125000000     124950848      na           na               na              0          0           0          0           7630               0                  7627              3              3                    1\n",
       "            480    0          0            3.033342   False         125000000     122542400      na           na               na              0          0           0          0           7630               0                  7480              150            150                  1\n",
       "            484    0          0            3.030933   False         125000000     111499584      na           na               na              0          0           0          0           7630               0                  6806              824            824                  1\n",
       "750000000   13     0          0            2.367448   False         125000000     90495296       na           na               na              0          0           0          0           7630               0                  5524              2106           2106                 1\n",
       "            24     0          0            9.102762   False         125000000     46399488       na           na               na              0          0           0          0           7630               0                  2832              4798           4798                 1\n",
       "            28     0          0            2.372929   False         125000000     100522304      na           na               na              0          0           0          0           7630               0                  6136              1494           1494                 1\n",
       "            145    0          0            2.358474   False         125000000     121002304      na           na               na              0          0           0          0           7630               0                  7386              244            244                  1\n",
       "            222    0          0            2.365637   False         125000000     112744768      na           na               na              0          0           0          0           7630               0                  6882              748            748                  1\n",
       "            263    0          0            2.365272   False         125000000     113613120      na           na               na              0          0           0          0           7630               0                  6935              695            695                  1\n",
       "            292    0          0            2.367516   False         125000000     102029632      na           na               na              0          0           0          0           7630               0                  6228              1402           1402                 1\n",
       "            377    0          0            2.362359   False         125000000     114252096      na           na               na              0          0           0          0           7630               0                  6974              656            656                  1\n",
       "            462    0          0            2.363730   False         125000000     73734464       na           na               na              0          0           0          0           7630               0                  4501              3129           3129                 1\n",
       "            472    0          0            2.364074   False         125000000     113727808      na           na               na              0          0           0          0           7630               0                  6942              688            688                  1\n",
       "            499    0          0            6.460483   False         125000000     46186496       na           na               na              0          0           0          0           7630               0                  2819              4811           4811                 1\n",
       "            517    0          0            2.367606   False         125000000     105929024      na           na               na              0          0           0          0           7630               0                  6466              1164           1164                 1\n",
       "            620    0          0            3.266881   False         125000000     107364352      na           na               na              0          0           0          0           7630               0                  6553              1077           1077                 1\n",
       "            646    0          0            2.398303   False         125000000     124469248      na           na               na              0          0           0          0           7630               0                  7597              33             33                   1\n",
       "            663    0          0            2.364656   False         125000000     110926144      na           na               na              0          0           0          0           7630               0                  6771              859            859                  1\n",
       "            699    0          0            2.366707   False         125000000     119511360      na           na               na              0          0           0          0           7630               0                  7295              335            335                  1\n",
       "            848    0          0            2.373954   False         125000000     116070720      na           na               na              0          0           0          0           7630               0                  7085              545            545                  1\n",
       "            859    0          0            2.365389   False         125000000     119937344      na           na               na              0          0           0          0           7630               0                  7321              309            309                  1\n",
       "            865    0          0            2.363348   False         125000000     123869504      na           na               na              0          0           0          0           7630               0                  7561              69             69                   1\n",
       "            904    0          0            2.365083   False         125000000     118561088      na           na               na              0          0           0          0           7630               0                  7237              393            393                  1\n",
       "            911    0          0            2.362666   False         125000000     102144320      na           na               na              0          0           0          0           7630               0                  6235              1395           1395                 1\n",
       "            996    0          0            2.366148   False         125000000     112089408      na           na               na              0          0           0          0           7630               0                  6842              788            788                  1\n",
       "1000000000  779    0          0            3.286830   False         125000000     70293824       na           na               na              0          0           0          0           7630               0                  4291              3339           3339                 1\n",
       "            896    0          0            2.032174   False         125000000     118085952      na           na               na              0          0           0          0           7630               0                  7208              422            422                  1\n",
       "Name: count, dtype: int64"
      ]
     },
     "execution_count": 6,
     "metadata": {},
     "output_type": "execute_result"
    }
   ],
   "source": [
    "results.query('(snmp_RcvbufErrors != 0) & (Xfer_success == False)').value_counts()"
   ]
  },
  {
   "cell_type": "markdown",
   "id": "c3e2815f",
   "metadata": {},
   "source": [
    "#### And what about snmp_SndbufErrors?"
   ]
  },
  {
   "cell_type": "code",
   "execution_count": 7,
   "id": "d946cdfd",
   "metadata": {},
   "outputs": [
    {
     "data": {
      "text/plain": [
       "Series([], Name: count, dtype: int64)"
      ]
     },
     "execution_count": 7,
     "metadata": {},
     "output_type": "execute_result"
    }
   ],
   "source": [
    "results.query('(snmp_SndbufErrors != 0)').value_counts()\n",
    "#results.query('(snmp_SndbufErrors != 0) & (Xfer_success == True)').value_counts()"
   ]
  }
 ],
 "metadata": {
  "kernelspec": {
   "display_name": "Python 3 (ipykernel)",
   "language": "python",
   "name": "python3"
  },
  "language_info": {
   "codemirror_mode": {
    "name": "ipython",
    "version": 3
   },
   "file_extension": ".py",
   "mimetype": "text/x-python",
   "name": "python",
   "nbconvert_exporter": "python",
   "pygments_lexer": "ipython3",
   "version": "3.12.3"
  }
 },
 "nbformat": 4,
 "nbformat_minor": 5
}
